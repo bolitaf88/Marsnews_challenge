{
 "cells": [
  {
   "cell_type": "markdown",
   "metadata": {},
   "source": [
    "# Module 12 Challenge\n",
    "## Deliverable 2: Scrape and Analyze Mars Weather Data"
   ]
  },
  {
   "cell_type": "code",
   "execution_count": 2,
   "metadata": {},
   "outputs": [],
   "source": [
    "# Import relevant libraries\n",
    "from splinter import Browser\n",
    "from bs4 import BeautifulSoup as soup\n",
    "import matplotlib.pyplot as plt\n",
    "import pandas as pd"
   ]
  },
  {
   "cell_type": "code",
   "execution_count": 3,
   "metadata": {},
   "outputs": [
    {
     "name": "stderr",
     "output_type": "stream",
     "text": [
      "The chromedriver version (114.0.5735.90) detected in PATH at C:\\Users\\bolit\\OneDrive\\Desktop\\webdrivers\\chromedriver.exe might not be compatible with the detected chrome version (116.0.5845.112); currently, chromedriver 116.0.5845.96 is recommended for chrome 116.*, so it is advised to delete the driver in PATH and retry\n",
      "The chromedriver version (114.0.5735.90) detected in PATH at C:\\Users\\bolit\\OneDrive\\Desktop\\webdrivers\\chromedriver.exe might not be compatible with the detected chrome version (116.0.5845.112); currently, chromedriver 116.0.5845.96 is recommended for chrome 116.*, so it is advised to delete the driver in PATH and retry\n",
      "The chromedriver version (114.0.5735.90) detected in PATH at C:\\Users\\bolit\\OneDrive\\Desktop\\webdrivers\\chromedriver.exe might not be compatible with the detected chrome version (116.0.5845.112); currently, chromedriver 116.0.5845.96 is recommended for chrome 116.*, so it is advised to delete the driver in PATH and retry\n"
     ]
    },
    {
     "ename": "SessionNotCreatedException",
     "evalue": "Message: session not created: This version of ChromeDriver only supports Chrome version 114\nCurrent browser version is 116.0.5845.112 with binary path C:\\Program Files\\Google\\Chrome\\Application\\chrome.exe\nStacktrace:\nBacktrace:\n\tGetHandleVerifier [0x0080A813+48355]\n\t(No symbol) [0x0079C4B1]\n\t(No symbol) [0x006A5358]\n\t(No symbol) [0x006C61AC]\n\t(No symbol) [0x006C1EF3]\n\t(No symbol) [0x006C0579]\n\t(No symbol) [0x006F0C55]\n\t(No symbol) [0x006F093C]\n\t(No symbol) [0x006EA536]\n\t(No symbol) [0x006C82DC]\n\t(No symbol) [0x006C93DD]\n\tGetHandleVerifier [0x00A6AABD+2539405]\n\tGetHandleVerifier [0x00AAA78F+2800735]\n\tGetHandleVerifier [0x00AA456C+2775612]\n\tGetHandleVerifier [0x008951E0+616112]\n\t(No symbol) [0x007A5F8C]\n\t(No symbol) [0x007A2328]\n\t(No symbol) [0x007A240B]\n\t(No symbol) [0x00794FF7]\n\tBaseThreadInitThunk [0x76F47D59+25]\n\tRtlInitializeExceptionChain [0x7719B79B+107]\n\tRtlClearBits [0x7719B71F+191]\n",
     "output_type": "error",
     "traceback": [
      "\u001b[1;31m---------------------------------------------------------------------------\u001b[0m",
      "\u001b[1;31mSessionNotCreatedException\u001b[0m                Traceback (most recent call last)",
      "Cell \u001b[1;32mIn[3], line 1\u001b[0m\n\u001b[1;32m----> 1\u001b[0m browser \u001b[39m=\u001b[39m Browser(\u001b[39m'\u001b[39;49m\u001b[39mchrome\u001b[39;49m\u001b[39m'\u001b[39;49m)\n",
      "File \u001b[1;32mc:\\Users\\bolit\\anaconda3\\envs\\dev\\lib\\site-packages\\splinter\\browser.py:125\u001b[0m, in \u001b[0;36mBrowser\u001b[1;34m(driver_name, retry_count, *args, **kwargs)\u001b[0m\n\u001b[0;32m    122\u001b[0m \u001b[39mif\u001b[39;00m driver \u001b[39mis\u001b[39;00m \u001b[39mNone\u001b[39;00m:\n\u001b[0;32m    123\u001b[0m     \u001b[39mraise\u001b[39;00m DriverNotFoundError(\u001b[39mf\u001b[39m\u001b[39m'\u001b[39m\u001b[39mDriver for \u001b[39m\u001b[39m{\u001b[39;00mdriver_name\u001b[39m}\u001b[39;00m\u001b[39m was not found.\u001b[39m\u001b[39m'\u001b[39m)\n\u001b[1;32m--> 125\u001b[0m \u001b[39mreturn\u001b[39;00m get_driver(driver, retry_count\u001b[39m=\u001b[39mretry_count, \u001b[39m*\u001b[39margs, \u001b[39m*\u001b[39m\u001b[39m*\u001b[39mkwargs)\n",
      "File \u001b[1;32mc:\\Users\\bolit\\anaconda3\\envs\\dev\\lib\\site-packages\\splinter\\browser.py:97\u001b[0m, in \u001b[0;36mget_driver\u001b[1;34m(driver, retry_count, *args, **kwargs)\u001b[0m\n\u001b[0;32m     94\u001b[0m     \u001b[39mexcept\u001b[39;00m driver_exceptions \u001b[39mas\u001b[39;00m e:\n\u001b[0;32m     95\u001b[0m         err \u001b[39m=\u001b[39m e\n\u001b[1;32m---> 97\u001b[0m \u001b[39mraise\u001b[39;00m err\n",
      "File \u001b[1;32mc:\\Users\\bolit\\anaconda3\\envs\\dev\\lib\\site-packages\\splinter\\browser.py:93\u001b[0m, in \u001b[0;36mget_driver\u001b[1;34m(driver, retry_count, *args, **kwargs)\u001b[0m\n\u001b[0;32m     91\u001b[0m \u001b[39mfor\u001b[39;00m _ \u001b[39min\u001b[39;00m \u001b[39mrange\u001b[39m(retry_count):\n\u001b[0;32m     92\u001b[0m     \u001b[39mtry\u001b[39;00m:\n\u001b[1;32m---> 93\u001b[0m         \u001b[39mreturn\u001b[39;00m driver(\u001b[39m*\u001b[39margs, \u001b[39m*\u001b[39m\u001b[39m*\u001b[39mkwargs)\n\u001b[0;32m     94\u001b[0m     \u001b[39mexcept\u001b[39;00m driver_exceptions \u001b[39mas\u001b[39;00m e:\n\u001b[0;32m     95\u001b[0m         err \u001b[39m=\u001b[39m e\n",
      "File \u001b[1;32mc:\\Users\\bolit\\anaconda3\\envs\\dev\\lib\\site-packages\\splinter\\driver\\webdriver\\chrome.py:42\u001b[0m, in \u001b[0;36mWebDriver.__init__\u001b[1;34m(self, options, user_agent, wait_time, fullscreen, incognito, headless, **kwargs)\u001b[0m\n\u001b[0;32m     39\u001b[0m     options\u001b[39m.\u001b[39madd_argument(\u001b[39m\"\u001b[39m\u001b[39m--headless\u001b[39m\u001b[39m\"\u001b[39m)\n\u001b[0;32m     40\u001b[0m     options\u001b[39m.\u001b[39madd_argument(\u001b[39m\"\u001b[39m\u001b[39m--disable-gpu\u001b[39m\u001b[39m\"\u001b[39m)\n\u001b[1;32m---> 42\u001b[0m driver \u001b[39m=\u001b[39m Chrome(options\u001b[39m=\u001b[39moptions, \u001b[39m*\u001b[39m\u001b[39m*\u001b[39mkwargs)\n\u001b[0;32m     44\u001b[0m \u001b[39msuper\u001b[39m(WebDriver, \u001b[39mself\u001b[39m)\u001b[39m.\u001b[39m\u001b[39m__init__\u001b[39m(driver, wait_time)\n",
      "File \u001b[1;32mc:\\Users\\bolit\\anaconda3\\envs\\dev\\lib\\site-packages\\selenium\\webdriver\\chrome\\webdriver.py:45\u001b[0m, in \u001b[0;36mWebDriver.__init__\u001b[1;34m(self, options, service, keep_alive)\u001b[0m\n\u001b[0;32m     42\u001b[0m service \u001b[39m=\u001b[39m service \u001b[39mif\u001b[39;00m service \u001b[39melse\u001b[39;00m Service()\n\u001b[0;32m     43\u001b[0m options \u001b[39m=\u001b[39m options \u001b[39mif\u001b[39;00m options \u001b[39melse\u001b[39;00m Options()\n\u001b[1;32m---> 45\u001b[0m \u001b[39msuper\u001b[39;49m()\u001b[39m.\u001b[39;49m\u001b[39m__init__\u001b[39;49m(\n\u001b[0;32m     46\u001b[0m     DesiredCapabilities\u001b[39m.\u001b[39;49mCHROME[\u001b[39m\"\u001b[39;49m\u001b[39mbrowserName\u001b[39;49m\u001b[39m\"\u001b[39;49m],\n\u001b[0;32m     47\u001b[0m     \u001b[39m\"\u001b[39;49m\u001b[39mgoog\u001b[39;49m\u001b[39m\"\u001b[39;49m,\n\u001b[0;32m     48\u001b[0m     options,\n\u001b[0;32m     49\u001b[0m     service,\n\u001b[0;32m     50\u001b[0m     keep_alive,\n\u001b[0;32m     51\u001b[0m )\n",
      "File \u001b[1;32mc:\\Users\\bolit\\anaconda3\\envs\\dev\\lib\\site-packages\\selenium\\webdriver\\chromium\\webdriver.py:56\u001b[0m, in \u001b[0;36mChromiumDriver.__init__\u001b[1;34m(self, browser_name, vendor_prefix, options, service, keep_alive)\u001b[0m\n\u001b[0;32m     53\u001b[0m \u001b[39mself\u001b[39m\u001b[39m.\u001b[39mservice\u001b[39m.\u001b[39mstart()\n\u001b[0;32m     55\u001b[0m \u001b[39mtry\u001b[39;00m:\n\u001b[1;32m---> 56\u001b[0m     \u001b[39msuper\u001b[39;49m()\u001b[39m.\u001b[39;49m\u001b[39m__init__\u001b[39;49m(\n\u001b[0;32m     57\u001b[0m         command_executor\u001b[39m=\u001b[39;49mChromiumRemoteConnection(\n\u001b[0;32m     58\u001b[0m             remote_server_addr\u001b[39m=\u001b[39;49m\u001b[39mself\u001b[39;49m\u001b[39m.\u001b[39;49mservice\u001b[39m.\u001b[39;49mservice_url,\n\u001b[0;32m     59\u001b[0m             browser_name\u001b[39m=\u001b[39;49mbrowser_name,\n\u001b[0;32m     60\u001b[0m             vendor_prefix\u001b[39m=\u001b[39;49mvendor_prefix,\n\u001b[0;32m     61\u001b[0m             keep_alive\u001b[39m=\u001b[39;49mkeep_alive,\n\u001b[0;32m     62\u001b[0m             ignore_proxy\u001b[39m=\u001b[39;49moptions\u001b[39m.\u001b[39;49m_ignore_local_proxy,\n\u001b[0;32m     63\u001b[0m         ),\n\u001b[0;32m     64\u001b[0m         options\u001b[39m=\u001b[39;49moptions,\n\u001b[0;32m     65\u001b[0m     )\n\u001b[0;32m     66\u001b[0m \u001b[39mexcept\u001b[39;00m \u001b[39mException\u001b[39;00m:\n\u001b[0;32m     67\u001b[0m     \u001b[39mself\u001b[39m\u001b[39m.\u001b[39mquit()\n",
      "File \u001b[1;32mc:\\Users\\bolit\\anaconda3\\envs\\dev\\lib\\site-packages\\selenium\\webdriver\\remote\\webdriver.py:206\u001b[0m, in \u001b[0;36mWebDriver.__init__\u001b[1;34m(self, command_executor, keep_alive, file_detector, options)\u001b[0m\n\u001b[0;32m    204\u001b[0m \u001b[39mself\u001b[39m\u001b[39m.\u001b[39m_authenticator_id \u001b[39m=\u001b[39m \u001b[39mNone\u001b[39;00m\n\u001b[0;32m    205\u001b[0m \u001b[39mself\u001b[39m\u001b[39m.\u001b[39mstart_client()\n\u001b[1;32m--> 206\u001b[0m \u001b[39mself\u001b[39;49m\u001b[39m.\u001b[39;49mstart_session(capabilities)\n",
      "File \u001b[1;32mc:\\Users\\bolit\\anaconda3\\envs\\dev\\lib\\site-packages\\selenium\\webdriver\\remote\\webdriver.py:290\u001b[0m, in \u001b[0;36mWebDriver.start_session\u001b[1;34m(self, capabilities)\u001b[0m\n\u001b[0;32m    283\u001b[0m \u001b[39m\u001b[39m\u001b[39m\"\"\"Creates a new session with the desired capabilities.\u001b[39;00m\n\u001b[0;32m    284\u001b[0m \n\u001b[0;32m    285\u001b[0m \u001b[39m:Args:\u001b[39;00m\n\u001b[0;32m    286\u001b[0m \u001b[39m - capabilities - a capabilities dict to start the session with.\u001b[39;00m\n\u001b[0;32m    287\u001b[0m \u001b[39m\"\"\"\u001b[39;00m\n\u001b[0;32m    289\u001b[0m caps \u001b[39m=\u001b[39m _create_caps(capabilities)\n\u001b[1;32m--> 290\u001b[0m response \u001b[39m=\u001b[39m \u001b[39mself\u001b[39;49m\u001b[39m.\u001b[39;49mexecute(Command\u001b[39m.\u001b[39;49mNEW_SESSION, caps)[\u001b[39m\"\u001b[39m\u001b[39mvalue\u001b[39m\u001b[39m\"\u001b[39m]\n\u001b[0;32m    291\u001b[0m \u001b[39mself\u001b[39m\u001b[39m.\u001b[39msession_id \u001b[39m=\u001b[39m response\u001b[39m.\u001b[39mget(\u001b[39m\"\u001b[39m\u001b[39msessionId\u001b[39m\u001b[39m\"\u001b[39m)\n\u001b[0;32m    292\u001b[0m \u001b[39mself\u001b[39m\u001b[39m.\u001b[39mcaps \u001b[39m=\u001b[39m response\u001b[39m.\u001b[39mget(\u001b[39m\"\u001b[39m\u001b[39mcapabilities\u001b[39m\u001b[39m\"\u001b[39m)\n",
      "File \u001b[1;32mc:\\Users\\bolit\\anaconda3\\envs\\dev\\lib\\site-packages\\selenium\\webdriver\\remote\\webdriver.py:345\u001b[0m, in \u001b[0;36mWebDriver.execute\u001b[1;34m(self, driver_command, params)\u001b[0m\n\u001b[0;32m    343\u001b[0m response \u001b[39m=\u001b[39m \u001b[39mself\u001b[39m\u001b[39m.\u001b[39mcommand_executor\u001b[39m.\u001b[39mexecute(driver_command, params)\n\u001b[0;32m    344\u001b[0m \u001b[39mif\u001b[39;00m response:\n\u001b[1;32m--> 345\u001b[0m     \u001b[39mself\u001b[39;49m\u001b[39m.\u001b[39;49merror_handler\u001b[39m.\u001b[39;49mcheck_response(response)\n\u001b[0;32m    346\u001b[0m     response[\u001b[39m\"\u001b[39m\u001b[39mvalue\u001b[39m\u001b[39m\"\u001b[39m] \u001b[39m=\u001b[39m \u001b[39mself\u001b[39m\u001b[39m.\u001b[39m_unwrap_value(response\u001b[39m.\u001b[39mget(\u001b[39m\"\u001b[39m\u001b[39mvalue\u001b[39m\u001b[39m\"\u001b[39m, \u001b[39mNone\u001b[39;00m))\n\u001b[0;32m    347\u001b[0m     \u001b[39mreturn\u001b[39;00m response\n",
      "File \u001b[1;32mc:\\Users\\bolit\\anaconda3\\envs\\dev\\lib\\site-packages\\selenium\\webdriver\\remote\\errorhandler.py:229\u001b[0m, in \u001b[0;36mErrorHandler.check_response\u001b[1;34m(self, response)\u001b[0m\n\u001b[0;32m    227\u001b[0m         alert_text \u001b[39m=\u001b[39m value[\u001b[39m\"\u001b[39m\u001b[39malert\u001b[39m\u001b[39m\"\u001b[39m]\u001b[39m.\u001b[39mget(\u001b[39m\"\u001b[39m\u001b[39mtext\u001b[39m\u001b[39m\"\u001b[39m)\n\u001b[0;32m    228\u001b[0m     \u001b[39mraise\u001b[39;00m exception_class(message, screen, stacktrace, alert_text)  \u001b[39m# type: ignore[call-arg]  # mypy is not smart enough here\u001b[39;00m\n\u001b[1;32m--> 229\u001b[0m \u001b[39mraise\u001b[39;00m exception_class(message, screen, stacktrace)\n",
      "\u001b[1;31mSessionNotCreatedException\u001b[0m: Message: session not created: This version of ChromeDriver only supports Chrome version 114\nCurrent browser version is 116.0.5845.112 with binary path C:\\Program Files\\Google\\Chrome\\Application\\chrome.exe\nStacktrace:\nBacktrace:\n\tGetHandleVerifier [0x0080A813+48355]\n\t(No symbol) [0x0079C4B1]\n\t(No symbol) [0x006A5358]\n\t(No symbol) [0x006C61AC]\n\t(No symbol) [0x006C1EF3]\n\t(No symbol) [0x006C0579]\n\t(No symbol) [0x006F0C55]\n\t(No symbol) [0x006F093C]\n\t(No symbol) [0x006EA536]\n\t(No symbol) [0x006C82DC]\n\t(No symbol) [0x006C93DD]\n\tGetHandleVerifier [0x00A6AABD+2539405]\n\tGetHandleVerifier [0x00AAA78F+2800735]\n\tGetHandleVerifier [0x00AA456C+2775612]\n\tGetHandleVerifier [0x008951E0+616112]\n\t(No symbol) [0x007A5F8C]\n\t(No symbol) [0x007A2328]\n\t(No symbol) [0x007A240B]\n\t(No symbol) [0x00794FF7]\n\tBaseThreadInitThunk [0x76F47D59+25]\n\tRtlInitializeExceptionChain [0x7719B79B+107]\n\tRtlClearBits [0x7719B71F+191]\n"
     ]
    }
   ],
   "source": [
    "browser = Browser('chrome')"
   ]
  },
  {
   "cell_type": "markdown",
   "metadata": {},
   "source": [
    "### Step 1: Visit the Website\n",
    "\n",
    "Use automated browsing to visit the [Mars Temperature Data Site](https://static.bc-edx.com/data/web/mars_facts/temperature.html). Inspect the page to identify which elements to scrape.\n",
    "\n",
    "   > **Hint** To identify which elements to scrape, you might want to inspect the page by using Chrome DevTools to discover whether the table contains usable classes.\n"
   ]
  },
  {
   "cell_type": "code",
   "execution_count": 3,
   "metadata": {},
   "outputs": [],
   "source": [
    "# Visit the website\n",
    "# https://static.bc-edx.com/data/web/mars_facts/temperature.html\n",
    "url = \"https://static.bc-edx.com/data/web/mars_facts/temperature.html\"\n",
    "browser.visit(url)"
   ]
  },
  {
   "cell_type": "markdown",
   "metadata": {},
   "source": [
    "### Step 2: Scrape the Table\n",
    "\n",
    "Create a Beautiful Soup object and use it to scrape the data in the HTML table.\n",
    "\n",
    "Note that this can also be achieved by using the Pandas `read_html` function. However, use Beautiful Soup here to continue sharpening your web scraping skills."
   ]
  },
  {
   "cell_type": "code",
   "execution_count": 1,
   "metadata": {},
   "outputs": [
    {
     "name": "stdout",
     "output_type": "stream",
     "text": [
      "<!DOCTYPE html>\n",
      "<html>\n",
      " <head>\n",
      "  <meta charset=\"utf-8\"/>\n",
      "  <meta content=\"width=device-width, initial-scale=1\" name=\"viewport\"/>\n",
      "  <link href=\"css/bootstrap.min.5.2.2.css\" rel=\"stylesheet\" type=\"text/css\"/>\n",
      "  <link href=\"css/font.css\" rel=\"stylesheet\" type=\"text/css\"/>\n",
      "  <link href=\"css/app.css\" rel=\"stylesheet\" type=\"text/css\"/>\n",
      "  <title>\n",
      "   News - Mars Exploration Program\n",
      "  </title>\n",
      " </head>\n",
      " <body>\n",
      "  <div class=\"col-md-12\">\n",
      "   <div class=\"row\">\n",
      "    <nav class=\"navbar navbar-expand-lg navbar-light fixed-top\">\n",
      "     <div class=\"container-fluid\">\n",
      "      <a class=\"navbar-brand\" href=\"#\">\n",
      "       <img src=\"images/logo.png\" width=\"80\"/>\n",
      "       <span class=\"logo\">\n",
      "        MARS Planet Science\n",
      "       </span>\n",
      "       <span class=\"logo1\">\n",
      "        Exploration Program\n",
      "       </span>\n",
      "      </a>\n",
      "      <button aria-controls=\"navbarNav\" aria-expanded=\"false\" aria-label=\"Toggle navigation\" class=\"navbar-toggler\" data-bs-target=\"#navbarNav\" data-bs-toggle=\"collapse\" type=\"button\">\n",
      "       <span class=\"navbar-toggler-icon\">\n",
      "       </span>\n",
      "      </button>\n",
      "      <div class=\"collapse navbar-collapse justify-content-end\" id=\"navbarNav\">\n",
      "       <ul class=\"navbar-nav\">\n",
      "        <li class=\"nav-item\">\n",
      "         <a aria-current=\"page\" class=\"nav-link active\" href=\"#\">\n",
      "          The Red Planet\n",
      "         </a>\n",
      "        </li>\n",
      "        <li class=\"nav-item\">\n",
      "         <a class=\"nav-link\" href=\"#\">\n",
      "          The Program\n",
      "         </a>\n",
      "        </li>\n",
      "        <li class=\"nav-item\">\n",
      "         <a class=\"nav-link\" href=\"#\">\n",
      "          News &amp; Events\n",
      "         </a>\n",
      "        </li>\n",
      "        <li class=\"nav-item\">\n",
      "         <a class=\"nav-link\" href=\"#\">\n",
      "          Multimedia\n",
      "         </a>\n",
      "        </li>\n",
      "        <li class=\"nav-item\">\n",
      "         <a class=\"nav-link\" href=\"#\">\n",
      "          Missions\n",
      "         </a>\n",
      "        </li>\n",
      "        <li class=\"nav-item\">\n",
      "         <a class=\"nav-link\" href=\"#\">\n",
      "          More\n",
      "         </a>\n",
      "        </li>\n",
      "        <li class=\"nav-item nav_search\">\n",
      "         <a class=\"nav-link\" href=\"#\">\n",
      "         </a>\n",
      "        </li>\n",
      "       </ul>\n",
      "      </div>\n",
      "     </div>\n",
      "    </nav>\n",
      "    <section class=\"search\">\n",
      "     <div class=\"container\">\n",
      "      <h1>\n",
      "       News\n",
      "      </h1>\n",
      "      <div class=\"col-md-12 filter\">\n",
      "       <div class=\"row\">\n",
      "        <div class=\"col-md-3 search_binder\">\n",
      "         <input class=\"search_field\" name=\"search\" type=\"text\"/>\n",
      "         <input class=\"search_submit\" name=\"search\" type=\"text\"/>\n",
      "        </div>\n",
      "        <div class=\"col-md-3\">\n",
      "         <select aria-label=\"Default select example\" class=\"form-select\" id=\"year\">\n",
      "          <option selected=\"\">\n",
      "           Latest\n",
      "          </option>\n",
      "         </select>\n",
      "        </div>\n",
      "        <div class=\"col-md-3\">\n",
      "         <select aria-label=\"Default select example\" class=\"form-select\" id=\"cat\">\n",
      "          <option selected=\"\">\n",
      "           All Categories\n",
      "          </option>\n",
      "         </select>\n",
      "        </div>\n",
      "        <div class=\"col-md-3\">\n",
      "        </div>\n",
      "       </div>\n",
      "      </div>\n",
      "     </div>\n",
      "    </section>\n",
      "    <section class=\"image_and_description_container\">\n",
      "     <div class=\"container\" id=\"news\">\n",
      "      <div class=\"col-md-12\">\n",
      "       <hr/>\n",
      "       <div class=\"row\">\n",
      "        <div class=\"col-md-4\">\n",
      "         <div class=\"list_image\">\n",
      "          <img src=\"images/9299_maven-vertical-limb-320x240.jpeg\"/>\n",
      "         </div>\n",
      "        </div>\n",
      "        <div class=\"col-md-8\">\n",
      "         <div class=\"list_text\">\n",
      "          <div class=\"list_date\">\n",
      "           November 9, 2022\n",
      "          </div>\n",
      "          <div class=\"content_title\">\n",
      "           NASA's MAVEN Observes Martian Light Show Caused by Major Solar Storm\n",
      "          </div>\n",
      "          <div class=\"article_teaser_body\">\n",
      "           For the first time in its eight years orbiting Mars, NASAâs MAVEN mission witnessed two different types of ultraviolet aurorae simultaneously, the result of solar storms that began on Aug. 27.\n",
      "          </div>\n",
      "         </div>\n",
      "        </div>\n",
      "       </div>\n",
      "      </div>\n",
      "      <div class=\"col-md-12\">\n",
      "       <hr/>\n",
      "       <div class=\"row\">\n",
      "        <div class=\"col-md-4\">\n",
      "         <div class=\"list_image\">\n",
      "          <img src=\"images/9292_PIA25287-320x240.jpeg\"/>\n",
      "         </div>\n",
      "        </div>\n",
      "        <div class=\"col-md-8\">\n",
      "         <div class=\"list_text\">\n",
      "          <div class=\"list_date\">\n",
      "           November 1, 2022\n",
      "          </div>\n",
      "          <div class=\"content_title\">\n",
      "           NASA Prepares to Say 'Farewell' to InSight Spacecraft\n",
      "          </div>\n",
      "          <div class=\"article_teaser_body\">\n",
      "           A closer look at what goes into wrapping up the mission as the spacecraftâs power supply continues to dwindle.\n",
      "          </div>\n",
      "         </div>\n",
      "        </div>\n",
      "       </div>\n",
      "      </div>\n",
      "      <div class=\"col-md-12\">\n",
      "       <hr/>\n",
      "       <div class=\"row\">\n",
      "        <div class=\"col-md-4\">\n",
      "         <div class=\"list_image\">\n",
      "          <img src=\"images/9286_PIA25243-320x240.jpeg\"/>\n",
      "         </div>\n",
      "        </div>\n",
      "        <div class=\"col-md-8\">\n",
      "         <div class=\"list_text\">\n",
      "          <div class=\"list_date\">\n",
      "           October 28, 2022\n",
      "          </div>\n",
      "          <div class=\"content_title\">\n",
      "           NASA and ESA Agree on Next Steps to Return Mars Samples to Earth\n",
      "          </div>\n",
      "          <div class=\"article_teaser_body\">\n",
      "           The agencyâs Perseverance rover will establish the first sample depot on Mars.\n",
      "          </div>\n",
      "         </div>\n",
      "        </div>\n",
      "       </div>\n",
      "      </div>\n",
      "      <div class=\"col-md-12\">\n",
      "       <hr/>\n",
      "       <div class=\"row\">\n",
      "        <div class=\"col-md-4\">\n",
      "         <div class=\"list_image\">\n",
      "          <img src=\"images/9289_1-PIA25583320x240.jpeg\"/>\n",
      "         </div>\n",
      "        </div>\n",
      "        <div class=\"col-md-8\">\n",
      "         <div class=\"list_text\">\n",
      "          <div class=\"list_date\">\n",
      "           October 27, 2022\n",
      "          </div>\n",
      "          <div class=\"content_title\">\n",
      "           NASA's InSight Lander Detects Stunning Meteoroid Impact on Mars\n",
      "          </div>\n",
      "          <div class=\"article_teaser_body\">\n",
      "           The agencyâs lander felt the ground shake during the impact while cameras aboard the Mars Reconnaissance Orbiter spotted the yawning new crater from space.\n",
      "          </div>\n",
      "         </div>\n",
      "        </div>\n",
      "       </div>\n",
      "      </div>\n",
      "      <div class=\"col-md-12\">\n",
      "       <hr/>\n",
      "       <div class=\"row\">\n",
      "        <div class=\"col-md-4\">\n",
      "         <div class=\"list_image\">\n",
      "          <img src=\"images/9284_1-PIA25287-320x240.jpeg\"/>\n",
      "         </div>\n",
      "        </div>\n",
      "        <div class=\"col-md-8\">\n",
      "         <div class=\"list_text\">\n",
      "          <div class=\"list_date\">\n",
      "           October 21, 2022\n",
      "          </div>\n",
      "          <div class=\"content_title\">\n",
      "           NASA To Host Briefing on InSight, Mars Reconnaissance Orbiter Findings\n",
      "          </div>\n",
      "          <div class=\"article_teaser_body\">\n",
      "           Scientists from two Mars missions will discuss how they combined images and data for a major finding on the Red Planet.\n",
      "          </div>\n",
      "         </div>\n",
      "        </div>\n",
      "       </div>\n",
      "      </div>\n",
      "      <div class=\"col-md-12\">\n",
      "       <hr/>\n",
      "       <div class=\"row\">\n",
      "        <div class=\"col-md-4\">\n",
      "         <div class=\"list_image\">\n",
      "          <img src=\"images/9283_1-Illustration-of-SHIELD-320x240.jpeg\"/>\n",
      "         </div>\n",
      "        </div>\n",
      "        <div class=\"col-md-8\">\n",
      "         <div class=\"list_text\">\n",
      "          <div class=\"list_date\">\n",
      "           October 20, 2022\n",
      "          </div>\n",
      "          <div class=\"content_title\">\n",
      "           Why NASA Is Trying To Crash Land on Mars\n",
      "          </div>\n",
      "          <div class=\"article_teaser_body\">\n",
      "           Like a carâs crumple zone, the experimental SHIELD lander is designed to absorb a hard impact.\n",
      "          </div>\n",
      "         </div>\n",
      "        </div>\n",
      "       </div>\n",
      "      </div>\n",
      "      <div class=\"col-md-12\">\n",
      "       <hr/>\n",
      "       <div class=\"row\">\n",
      "        <div class=\"col-md-4\">\n",
      "         <div class=\"list_image\">\n",
      "          <img src=\"images/9281_1-PIA25413-320x240.jpeg\"/>\n",
      "         </div>\n",
      "        </div>\n",
      "        <div class=\"col-md-8\">\n",
      "         <div class=\"list_text\">\n",
      "          <div class=\"list_date\">\n",
      "           October 19, 2022\n",
      "          </div>\n",
      "          <div class=\"content_title\">\n",
      "           Curiosity Mars Rover Reaches Long-Awaited Salty Region\n",
      "          </div>\n",
      "          <div class=\"article_teaser_body\">\n",
      "           After years of climbing, the Mars rover has arrived at a special region believed to have formed as Marsâ climate was drying.\n",
      "          </div>\n",
      "         </div>\n",
      "        </div>\n",
      "       </div>\n",
      "      </div>\n",
      "      <div class=\"col-md-12\">\n",
      "       <hr/>\n",
      "       <div class=\"row\">\n",
      "        <div class=\"col-md-4\">\n",
      "         <div class=\"list_image\">\n",
      "          <img src=\"images/9276_PIA25337-320x240.jpeg\"/>\n",
      "         </div>\n",
      "        </div>\n",
      "        <div class=\"col-md-8\">\n",
      "         <div class=\"list_text\">\n",
      "          <div class=\"list_date\">\n",
      "           October 12, 2022\n",
      "          </div>\n",
      "          <div class=\"content_title\">\n",
      "           Mars Mission Shields Up for Tests\n",
      "          </div>\n",
      "          <div class=\"article_teaser_body\">\n",
      "           Protecting Mars Sample Return spacecraft from micrometeorites requires high-caliber work.\n",
      "          </div>\n",
      "         </div>\n",
      "        </div>\n",
      "       </div>\n",
      "      </div>\n",
      "      <div class=\"col-md-12\">\n",
      "       <hr/>\n",
      "       <div class=\"row\">\n",
      "        <div class=\"col-md-4\">\n",
      "         <div class=\"list_image\">\n",
      "          <img src=\"images/9275_PIA25287-clean320x240.jpeg\"/>\n",
      "         </div>\n",
      "        </div>\n",
      "        <div class=\"col-md-8\">\n",
      "         <div class=\"list_text\">\n",
      "          <div class=\"list_date\">\n",
      "           October 7, 2022\n",
      "          </div>\n",
      "          <div class=\"content_title\">\n",
      "           NASA's InSight Waits Out Dust Storm\n",
      "          </div>\n",
      "          <div class=\"article_teaser_body\">\n",
      "           InSightâs team is taking steps to help the solar-powered lander continue operating for as long as possible.\n",
      "          </div>\n",
      "         </div>\n",
      "        </div>\n",
      "       </div>\n",
      "      </div>\n",
      "      <div class=\"col-md-12\">\n",
      "       <hr/>\n",
      "       <div class=\"row\">\n",
      "        <div class=\"col-md-4\">\n",
      "         <div class=\"list_image\">\n",
      "          <img src=\"images/9264_1-PIA25408-320x240.jpeg\"/>\n",
      "         </div>\n",
      "        </div>\n",
      "        <div class=\"col-md-8\">\n",
      "         <div class=\"list_text\">\n",
      "          <div class=\"list_date\">\n",
      "           September 19, 2022\n",
      "          </div>\n",
      "          <div class=\"content_title\">\n",
      "           NASA's InSight 'Hears' Its First Meteoroid Impacts on Mars\n",
      "          </div>\n",
      "          <div class=\"article_teaser_body\">\n",
      "           The Mars landerâs seismometer has picked up vibrations from four separate impacts in the past two years.\n",
      "          </div>\n",
      "         </div>\n",
      "        </div>\n",
      "       </div>\n",
      "      </div>\n",
      "      <div class=\"col-md-12\">\n",
      "       <hr/>\n",
      "       <div class=\"row\">\n",
      "        <div class=\"col-md-4\">\n",
      "         <div class=\"list_image\">\n",
      "          <img src=\"images/9261_26987_PIA24925_MAIN-320x240.jpeg\"/>\n",
      "         </div>\n",
      "        </div>\n",
      "        <div class=\"col-md-8\">\n",
      "         <div class=\"list_text\">\n",
      "          <div class=\"list_date\">\n",
      "           September 15, 2022\n",
      "          </div>\n",
      "          <div class=\"content_title\">\n",
      "           NASA's Perseverance Rover Investigates Geologically Rich Mars Terrain\n",
      "          </div>\n",
      "          <div class=\"article_teaser_body\">\n",
      "           The latest findings provide greater detail on a region of the Red Planet that has a watery past and is yielding promising samples for the NASA-ESA Mars Sample Return campaign.\n",
      "          </div>\n",
      "         </div>\n",
      "        </div>\n",
      "       </div>\n",
      "      </div>\n",
      "      <div class=\"col-md-12\">\n",
      "       <hr/>\n",
      "       <div class=\"row\">\n",
      "        <div class=\"col-md-4\">\n",
      "         <div class=\"list_image\">\n",
      "          <img src=\"images/9257_PIA25325-320x240.jpeg\"/>\n",
      "         </div>\n",
      "        </div>\n",
      "        <div class=\"col-md-8\">\n",
      "         <div class=\"list_text\">\n",
      "          <div class=\"list_date\">\n",
      "           September 12, 2022\n",
      "          </div>\n",
      "          <div class=\"content_title\">\n",
      "           NASA to Host Briefing on Perseverance Mars Rover Mission Operations\n",
      "          </div>\n",
      "          <div class=\"article_teaser_body\">\n",
      "           Members of the mission will discuss the roverâs activities as it gathers samples in an ancient river delta.\n",
      "          </div>\n",
      "         </div>\n",
      "        </div>\n",
      "       </div>\n",
      "      </div>\n",
      "      <div class=\"col-md-12\">\n",
      "       <hr/>\n",
      "       <div class=\"row\">\n",
      "        <div class=\"col-md-4\">\n",
      "         <div class=\"list_image\">\n",
      "          <img src=\"images/9252_1-PIA24836_Perseverance_Selfie_at_Rochette-320x240.jpeg\"/>\n",
      "         </div>\n",
      "        </div>\n",
      "        <div class=\"col-md-8\">\n",
      "         <div class=\"list_text\">\n",
      "          <div class=\"list_date\">\n",
      "           August 25, 2022\n",
      "          </div>\n",
      "          <div class=\"content_title\">\n",
      "           NASA's Perseverance Makes New Discoveries in Mars' Jezero Crater\n",
      "          </div>\n",
      "          <div class=\"article_teaser_body\">\n",
      "           The rover found that Jezero Craterâs floor is made up of volcanic rocks that have interacted with water.\n",
      "          </div>\n",
      "         </div>\n",
      "        </div>\n",
      "       </div>\n",
      "      </div>\n",
      "      <div class=\"col-md-12\">\n",
      "       <hr/>\n",
      "       <div class=\"row\">\n",
      "        <div class=\"col-md-4\">\n",
      "         <div class=\"list_image\">\n",
      "          <img src=\"images/9240_1-PIA25407-Curiositys-360-Degree-Panorama-of-Avanaro-320x240.jpeg\"/>\n",
      "         </div>\n",
      "        </div>\n",
      "        <div class=\"col-md-8\">\n",
      "         <div class=\"list_text\">\n",
      "          <div class=\"list_date\">\n",
      "           August 5, 2022\n",
      "          </div>\n",
      "          <div class=\"content_title\">\n",
      "           10 Years Since Landing, NASA's Curiosity Mars Rover Still Has Drive\n",
      "          </div>\n",
      "          <div class=\"article_teaser_body\">\n",
      "           Despite signs of wear, the intrepid spacecraft is about to start an exciting new chapter of its mission as it climbs a Martian mountain.\n",
      "          </div>\n",
      "         </div>\n",
      "        </div>\n",
      "       </div>\n",
      "      </div>\n",
      "      <div class=\"col-md-12\">\n",
      "       <hr/>\n",
      "       <div class=\"row\">\n",
      "        <div class=\"col-md-4\">\n",
      "         <div class=\"list_image\">\n",
      "          <img src=\"images/9239_article_pictures2_jpeg-320x240.jpeg\"/>\n",
      "         </div>\n",
      "        </div>\n",
      "        <div class=\"col-md-8\">\n",
      "         <div class=\"list_text\">\n",
      "          <div class=\"list_date\">\n",
      "           August 4, 2022\n",
      "          </div>\n",
      "          <div class=\"content_title\">\n",
      "           SAM's Top 5 Discoveries Aboard NASA's Curiosity Rover at Mars\n",
      "          </div>\n",
      "          <div class=\"article_teaser_body\">\n",
      "           âSelfieâ of the Curiosity rover with inset showing the SAM instrument prior to installation on the rover.\n",
      "          </div>\n",
      "         </div>\n",
      "        </div>\n",
      "       </div>\n",
      "      </div>\n",
      "     </div>\n",
      "     <hr class=\"container\" style=\"margin: 25px auto;width: 83%;\"/>\n",
      "     <button class=\"btn disable\" id=\"more\">\n",
      "      More\n",
      "     </button>\n",
      "    </section>\n",
      "    <section class=\"last_news\">\n",
      "     <div class=\"container\">\n",
      "      <div class=\"row\">\n",
      "       <div class=\"col-12\">\n",
      "        <h2>\n",
      "         You Might Also Like\n",
      "        </h2>\n",
      "       </div>\n",
      "       <div class=\"col-12\">\n",
      "        <div class=\"carousel slide\" data-ride=\"carousel\" id=\"carouselExampleIndicators2\">\n",
      "         <div class=\"carousel-inner\">\n",
      "          <div class=\"carousel-item active\">\n",
      "           <div class=\"row\">\n",
      "            <div class=\"col-md-4 mb-3\">\n",
      "             <div class=\"card\">\n",
      "              <img alt=\"100%x280\" class=\"img-fluid\" src=\"images/9232_1-PIA01551-sojourner-and-ramp-already-in-PJ-320x240.jpeg\"/>\n",
      "              <div class=\"card-body\">\n",
      "               <p class=\"card-text\">\n",
      "                NASA Marks 25 Years Since Pathfinder Touched Down on Mars\n",
      "               </p>\n",
      "              </div>\n",
      "             </div>\n",
      "            </div>\n",
      "            <div class=\"col-md-4 mb-3\">\n",
      "             <div class=\"card\">\n",
      "              <img alt=\"100%x280\" class=\"img-fluid\" src=\"images/9172_PIA25179-320x240.jpeg\"/>\n",
      "              <div class=\"card-body\">\n",
      "               <p class=\"card-text\">\n",
      "                NASA's Perseverance Rover Captures Video of Solar Eclipse on Mars\n",
      "               </p>\n",
      "              </div>\n",
      "             </div>\n",
      "            </div>\n",
      "            <div class=\"col-md-4 mb-3\">\n",
      "             <div class=\"card\">\n",
      "              <img alt=\"100%x280\" class=\"img-fluid\" src=\"images/9167_maven-in-orbit-320x240.jpeg\"/>\n",
      "              <div class=\"card-body\">\n",
      "               <p class=\"card-text\">\n",
      "                NASA, UAE Mars Missions Agree to Share Science Data\n",
      "               </p>\n",
      "              </div>\n",
      "             </div>\n",
      "            </div>\n",
      "           </div>\n",
      "          </div>\n",
      "         </div>\n",
      "        </div>\n",
      "       </div>\n",
      "      </div>\n",
      "     </div>\n",
      "    </section>\n",
      "    <section class=\"footer\">\n",
      "     <div class=\"container\">\n",
      "      <div class=\"col-md-12\">\n",
      "       <div class=\"row\">\n",
      "        <div class=\"col-md-3\">\n",
      "         <h5>\n",
      "          The Red Planet\n",
      "         </h5>\n",
      "         <ul>\n",
      "          <li>\n",
      "           Dashboard\n",
      "          </li>\n",
      "          <li>\n",
      "           Science Goals\n",
      "          </li>\n",
      "          <li>\n",
      "           The Planet\n",
      "          </li>\n",
      "         </ul>\n",
      "        </div>\n",
      "        <div class=\"col-md-3\">\n",
      "         <h5>\n",
      "          The Program\n",
      "         </h5>\n",
      "         <ul>\n",
      "          <li>\n",
      "           Mission Statement\n",
      "          </li>\n",
      "          <li>\n",
      "           About the Program\n",
      "          </li>\n",
      "          <li>\n",
      "           Organization Why Mars?\n",
      "          </li>\n",
      "         </ul>\n",
      "        </div>\n",
      "        <div class=\"col-md-3\">\n",
      "         <h5>\n",
      "          Multimedia\n",
      "         </h5>\n",
      "         <ul>\n",
      "          <li>\n",
      "           Images\n",
      "          </li>\n",
      "          <li>\n",
      "           Videos\n",
      "          </li>\n",
      "          <li>\n",
      "           More Resources\n",
      "          </li>\n",
      "         </ul>\n",
      "        </div>\n",
      "        <div class=\"col-md-3\">\n",
      "         <h5>\n",
      "          Missions\n",
      "         </h5>\n",
      "         <ul>\n",
      "          <li>\n",
      "           Past\n",
      "          </li>\n",
      "          <li>\n",
      "           Present\n",
      "          </li>\n",
      "          <li>\n",
      "           Future\n",
      "          </li>\n",
      "         </ul>\n",
      "        </div>\n",
      "       </div>\n",
      "      </div>\n",
      "     </div>\n",
      "    </section>\n",
      "    <footer class=\"footer\">\n",
      "     <p id=\"datasource\">\n",
      "      Images and news content extracted from NASA's\n",
      "      <a href=\"https://mars.nasa.gov/news/\">\n",
      "       Mars News\n",
      "      </a>\n",
      "      website on November 9, 2022.\n",
      "      <br/>\n",
      "      Images used in accordance with the\n",
      "      <a href=\"https://www.jpl.nasa.gov/jpl-image-use-policy\">\n",
      "       JPL Image Use Policy\n",
      "      </a>\n",
      "      .\n",
      "     </p>\n",
      "     <hr>\n",
      "      <p id=\"edx\">\n",
      "       This site is operated by edX Boot Camps LLC for educational purposes only.\n",
      "       <br/>\n",
      "       This is not a website endorsed by NASA. This website is intended only for internal academic purposes.\n",
      "      </p>\n",
      "     </hr>\n",
      "    </footer>\n",
      "    <script src=\"js/bootstrap.bundle.min.5.2.2.js\">\n",
      "    </script>\n",
      "   </div>\n",
      "  </div>\n",
      " </body>\n",
      "</html>\n",
      "\n"
     ]
    }
   ],
   "source": [
    "# Create a Beautiful Soup Object\n",
    "import requests\n",
    "from bs4 import BeautifulSoup\n",
    "\n",
    "# Fetch the HTML content from the URL\n",
    "url = 'https://static.bc-edx.com/data/web/mars_news/index.html'\n",
    "response = requests.get(url)\n",
    "\n",
    "# Check if the request was successful\n",
    "if response.status_code == 200:\n",
    "    html_content = response.text\n",
    "    \n",
    "    # Create a BeautifulSoup object and specify the parser\n",
    "    soup = BeautifulSoup(html_content, 'html.parser')\n",
    "    \n",
    "    # Do something with the BeautifulSoup object (e.g., find a specific tag, extract text, etc.)\n",
    "    print(soup.prettify())\n",
    "else:\n",
    "    print(f\"Failed to retrieve the web page. Status code: {response.status_code}\")"
   ]
  },
  {
   "cell_type": "code",
   "execution_count": 2,
   "metadata": {},
   "outputs": [
    {
     "name": "stdout",
     "output_type": "stream",
     "text": [
      "[{'date': 'November 9, 2022', 'title': \"NASA's MAVEN Observes Martian Light Show Caused by Major Solar Storm\", 'preview': 'For the first time in its eight years orbiting Mars, NASAâ\\x80\\x99s MAVEN mission witnessed two different types of ultraviolet aurorae simultaneously, the result of solar storms that began on Aug. 27.'}, {'date': 'November 1, 2022', 'title': \"NASA Prepares to Say 'Farewell' to InSight Spacecraft\", 'preview': 'A closer look at what goes into wrapping up the mission as the spacecraftâ\\x80\\x99s power supply continues to dwindle.'}, {'date': 'October 28, 2022', 'title': 'NASA and ESA Agree on Next Steps to Return Mars Samples to Earth', 'preview': 'The agencyâ\\x80\\x99s Perseverance rover will establish the first sample depot on Mars.'}, {'date': 'October 27, 2022', 'title': \"NASA's InSight Lander Detects Stunning Meteoroid Impact on Mars\", 'preview': 'The agencyâ\\x80\\x99s lander felt the ground shake during the impact while cameras aboard the Mars Reconnaissance Orbiter spotted the yawning new crater from space.'}, {'date': 'October 21, 2022', 'title': 'NASA To Host Briefing on InSight, Mars Reconnaissance Orbiter Findings', 'preview': 'Scientists from two Mars missions will discuss how they combined images and data for a major finding on the Red Planet.'}, {'date': 'October 20, 2022', 'title': 'Why NASA Is Trying To Crash Land on Mars', 'preview': 'Like a carâ\\x80\\x99s crumple zone, the experimental SHIELD lander is designed to absorb a hard impact.'}, {'date': 'October 19, 2022', 'title': 'Curiosity Mars Rover Reaches Long-Awaited Salty Region', 'preview': 'After years of climbing, the Mars rover has arrived at a special region believed to have formed as Marsâ\\x80\\x99 climate was drying.'}, {'date': 'October 12, 2022', 'title': 'Mars Mission Shields Up for Tests', 'preview': 'Protecting Mars Sample Return spacecraft from micrometeorites requires high-caliber work.'}, {'date': 'October 7, 2022', 'title': \"NASA's InSight Waits Out Dust Storm\", 'preview': 'InSightâ\\x80\\x99s team is taking steps to help the solar-powered lander continue operating for as long as possible.'}, {'date': 'September 19, 2022', 'title': \"NASA's InSight 'Hears' Its First Meteoroid Impacts on Mars\", 'preview': 'The Mars landerâ\\x80\\x99s seismometer has picked up vibrations from four separate impacts in the past two years.'}, {'date': 'September 15, 2022', 'title': \"NASA's Perseverance Rover Investigates Geologically Rich Mars Terrain\", 'preview': 'The latest findings provide greater detail on a region of the Red Planet that has a watery past and is yielding promising samples for the NASA-ESA Mars Sample Return campaign.'}, {'date': 'September 12, 2022', 'title': 'NASA to Host Briefing on Perseverance Mars Rover Mission Operations', 'preview': 'Members of the mission will discuss the roverâ\\x80\\x99s activities as it gathers samples in an ancient river delta.'}, {'date': 'August 25, 2022', 'title': \"NASA's Perseverance Makes New Discoveries in Mars' Jezero Crater\", 'preview': 'The rover found that Jezero Craterâ\\x80\\x99s floor is made up of volcanic rocks that have interacted with water.'}, {'date': 'August 5, 2022', 'title': \"10 Years Since Landing, NASA's Curiosity Mars Rover Still Has Drive\", 'preview': 'Despite signs of wear, the intrepid spacecraft is about to start an exciting new chapter of its mission as it climbs a Martian mountain.'}, {'date': 'August 4, 2022', 'title': \"SAM's Top 5 Discoveries Aboard NASA's Curiosity Rover at Mars\", 'preview': 'â\\x80\\x9cSelfieâ\\x80\\x9d of the Curiosity rover with inset showing the SAM instrument prior to installation on the rover.'}]\n"
     ]
    }
   ],
   "source": [
    "# Extract all rows of data\n",
    "import requests\n",
    "from bs4 import BeautifulSoup\n",
    "\n",
    "response = requests.get('https://static.bc-edx.com/data/web/mars_news/index.html')\n",
    "soup = BeautifulSoup(response.text, 'html.parser')\n",
    "\n",
    "# Initialize an empty list to store the rows of data\n",
    "all_rows = []\n",
    "\n",
    "# Assuming each \"row\" of data is wrapped in <div class=\"list_text\">\n",
    "for row_div in soup.select('.list_text'):\n",
    "    row_data = {}\n",
    "    \n",
    "    # Extract the date\n",
    "    date_div = row_div.find('div', {'class': 'list_date'})\n",
    "    if date_div:\n",
    "        row_data['date'] = date_div.get_text().strip()\n",
    "\n",
    "    # Extract the title\n",
    "    title_div = row_div.find('div', {'class': 'content_title'})\n",
    "    if title_div:\n",
    "        row_data['title'] = title_div.get_text().strip()\n",
    "    \n",
    "    # Extract the preview text\n",
    "    preview_div = row_div.find('div', {'class': 'article_teaser_body'})\n",
    "    if preview_div:\n",
    "        row_data['preview'] = preview_div.get_text().strip()\n",
    "    \n",
    "    # Add the row to the list\n",
    "    all_rows.append(row_data)\n",
    "\n",
    "print(all_rows)\n"
   ]
  },
  {
   "cell_type": "markdown",
   "metadata": {},
   "source": [
    "### Step 3: Store the Data\n",
    "\n",
    "Assemble the scraped data into a Pandas DataFrame. The columns should have the same headings as the table on the website. Here’s an explanation of the column headings:\n",
    "\n",
    "* `id`: the identification number of a single transmission from the Curiosity rover\n",
    "* `terrestrial_date`: the date on Earth\n",
    "* `sol`: the number of elapsed sols (Martian days) since Curiosity landed on Mars\n",
    "* `ls`: the solar longitude\n",
    "* `month`: the Martian month\n",
    "* `min_temp`: the minimum temperature, in Celsius, of a single Martian day (sol)\n",
    "* `pressure`: The atmospheric pressure at Curiosity's location"
   ]
  },
  {
   "cell_type": "code",
   "execution_count": 3,
   "metadata": {},
   "outputs": [
    {
     "name": "stdout",
     "output_type": "stream",
     "text": [
      "[]\n"
     ]
    }
   ],
   "source": [
    "import requests\n",
    "from bs4 import BeautifulSoup\n",
    "\n",
    "# Create an empty list to hold the rows of data\n",
    "rows_list = []\n",
    "\n",
    "# Fetch the HTML content from the website\n",
    "response = requests.get(\"https://your-website.com/news\")\n",
    "\n",
    "# Parse the HTML content using BeautifulSoup\n",
    "soup = BeautifulSoup(response.text, \"html.parser\")\n",
    "\n",
    "# Loop through each news item\n",
    "# This will depend on the actual structure of the HTML\n",
    "# Here, we assume each news item is in a div with class 'list_text'\n",
    "for news_item in soup.select(\".list_text\"):\n",
    "    # Create an empty dictionary to hold the row data\n",
    "    row_dict = {}\n",
    "    \n",
    "    # Extract date\n",
    "    date_div = news_item.find(\"div\", {\"class\": \"list_date\"})\n",
    "    if date_div:\n",
    "        row_dict[\"date\"] = date_div.get_text().strip()\n",
    "\n",
    "    # Extract title\n",
    "    title_div = news_item.find(\"div\", {\"class\": \"content_title\"})\n",
    "    if title_div:\n",
    "        row_dict[\"title\"] = title_div.get_text().strip()\n",
    "        \n",
    "    # Extract preview\n",
    "    preview_div = news_item.find(\"div\", {\"class\": \"article_teaser_body\"})\n",
    "    if preview_div:\n",
    "        row_dict[\"preview\"] = preview_div.get_text().strip()\n",
    "\n",
    "    # Append the row dictionary to the rows list\n",
    "    rows_list.append(row_dict)\n",
    "\n",
    "# Now rows_list contains all the rows of data\n",
    "print(rows_list)\n"
   ]
  },
  {
   "cell_type": "code",
   "execution_count": 1,
   "metadata": {},
   "outputs": [],
   "source": [
    "# Create a Pandas DataFrame by using the list of rows and a list of the column names\n",
    "import requests\n",
    "from bs4 import BeautifulSoup\n",
    "import pandas as pd\n",
    "\n",
    "# Create an empty list to hold the rows of data\n",
    "rows_list = []\n",
    "\n",
    "# Fetch the HTML content from the website\n",
    "response = requests.get(\"https://static.bc-edx.com/data/web/mars_news/index.html\")\n",
    "\n",
    "# Parse the HTML content using BeautifulSoup\n",
    "soup = BeautifulSoup(response.text, \"html.parser\")\n",
    "\n",
    "# Loop through each news item\n",
    "for news_item in soup.select(\".list_text\"):\n",
    "    # Create an empty dictionary to hold the row data\n",
    "    row_dict = {}\n",
    "    \n",
    "    # Extract date\n",
    "    date_div = news_item.find(\"div\", {\"class\": \"list_date\"})\n",
    "    if date_div:\n",
    "        row_dict[\"date\"] = date_div.get_text().strip()\n",
    "\n",
    "    # Extract title\n",
    "    title_div = news_item.find(\"div\", {\"class\": \"content_title\"})\n",
    "    if title_div:\n",
    "        row_dict[\"title\"] = title_div.get_text().strip()\n",
    "        \n",
    "    # Extract preview\n",
    "    preview_div = news_item.find(\"div\", {\"class\": \"article_teaser_body\"})\n",
    "    if preview_div:\n",
    "        row_dict[\"preview\"] = preview_div.get_text().strip()\n",
    "\n",
    "    # Append the row dictionary to the rows list\n",
    "    rows_list.append(row_dict)\n",
    "\n",
    "# Create a DataFrame from the list of dictionaries\n",
    "column_names = ['date', 'title', 'preview']\n",
    "df = pd.DataFrame(rows_list, columns=column_names)\n",
    "\n",
    "\n",
    "\n",
    "# Now\n"
   ]
  },
  {
   "cell_type": "code",
   "execution_count": 2,
   "metadata": {},
   "outputs": [
    {
     "name": "stdout",
     "output_type": "stream",
     "text": [
      "               date                                              title  \\\n",
      "0  November 9, 2022  NASA's MAVEN Observes Martian Light Show Cause...   \n",
      "1  November 1, 2022  NASA Prepares to Say 'Farewell' to InSight Spa...   \n",
      "2  October 28, 2022  NASA and ESA Agree on Next Steps to Return Mar...   \n",
      "3  October 27, 2022  NASA's InSight Lander Detects Stunning Meteoro...   \n",
      "4  October 21, 2022  NASA To Host Briefing on InSight, Mars Reconna...   \n",
      "\n",
      "                                             preview  \n",
      "0  For the first time in its eight years orbiting...  \n",
      "1  A closer look at what goes into wrapping up th...  \n",
      "2  The agencyâs Perseverance rover will establi...  \n",
      "3  The agencyâs lander felt the ground shake du...  \n",
      "4  Scientists from two Mars missions will discuss...  \n"
     ]
    }
   ],
   "source": [
    "print(df.head())\n"
   ]
  },
  {
   "cell_type": "code",
   "execution_count": 8,
   "metadata": {},
   "outputs": [
    {
     "data": {
      "text/html": [
       "<div>\n",
       "<style scoped>\n",
       "    .dataframe tbody tr th:only-of-type {\n",
       "        vertical-align: middle;\n",
       "    }\n",
       "\n",
       "    .dataframe tbody tr th {\n",
       "        vertical-align: top;\n",
       "    }\n",
       "\n",
       "    .dataframe thead th {\n",
       "        text-align: right;\n",
       "    }\n",
       "</style>\n",
       "<table border=\"1\" class=\"dataframe\">\n",
       "  <thead>\n",
       "    <tr style=\"text-align: right;\">\n",
       "      <th></th>\n",
       "      <th>id</th>\n",
       "      <th>terrestrial_date</th>\n",
       "      <th>sol</th>\n",
       "      <th>ls</th>\n",
       "      <th>month</th>\n",
       "      <th>min_temp</th>\n",
       "      <th>pressure</th>\n",
       "    </tr>\n",
       "  </thead>\n",
       "  <tbody>\n",
       "    <tr>\n",
       "      <th>0</th>\n",
       "      <td>2</td>\n",
       "      <td>2012-08-16</td>\n",
       "      <td>10</td>\n",
       "      <td>155</td>\n",
       "      <td>6</td>\n",
       "      <td>-75.0</td>\n",
       "      <td>739.0</td>\n",
       "    </tr>\n",
       "    <tr>\n",
       "      <th>1</th>\n",
       "      <td>13</td>\n",
       "      <td>2012-08-17</td>\n",
       "      <td>11</td>\n",
       "      <td>156</td>\n",
       "      <td>6</td>\n",
       "      <td>-76.0</td>\n",
       "      <td>740.0</td>\n",
       "    </tr>\n",
       "    <tr>\n",
       "      <th>2</th>\n",
       "      <td>24</td>\n",
       "      <td>2012-08-18</td>\n",
       "      <td>12</td>\n",
       "      <td>156</td>\n",
       "      <td>6</td>\n",
       "      <td>-76.0</td>\n",
       "      <td>741.0</td>\n",
       "    </tr>\n",
       "    <tr>\n",
       "      <th>3</th>\n",
       "      <td>35</td>\n",
       "      <td>2012-08-19</td>\n",
       "      <td>13</td>\n",
       "      <td>157</td>\n",
       "      <td>6</td>\n",
       "      <td>-74.0</td>\n",
       "      <td>732.0</td>\n",
       "    </tr>\n",
       "    <tr>\n",
       "      <th>4</th>\n",
       "      <td>46</td>\n",
       "      <td>2012-08-20</td>\n",
       "      <td>14</td>\n",
       "      <td>157</td>\n",
       "      <td>6</td>\n",
       "      <td>-74.0</td>\n",
       "      <td>740.0</td>\n",
       "    </tr>\n",
       "  </tbody>\n",
       "</table>\n",
       "</div>"
      ],
      "text/plain": [
       "   id terrestrial_date sol   ls month min_temp pressure\n",
       "0   2       2012-08-16  10  155     6    -75.0    739.0\n",
       "1  13       2012-08-17  11  156     6    -76.0    740.0\n",
       "2  24       2012-08-18  12  156     6    -76.0    741.0\n",
       "3  35       2012-08-19  13  157     6    -74.0    732.0\n",
       "4  46       2012-08-20  14  157     6    -74.0    740.0"
      ]
     },
     "execution_count": 8,
     "metadata": {},
     "output_type": "execute_result"
    }
   ],
   "source": [
    "# Confirm DataFrame was created successfully\n"
   ]
  },
  {
   "cell_type": "code",
   "execution_count": null,
   "metadata": {},
   "outputs": [],
   "source": []
  },
  {
   "cell_type": "markdown",
   "metadata": {},
   "source": [
    "### Step 4: Prepare Data for Analysis\n",
    "\n",
    "Examine the data types that are currently associated with each column. If necessary, cast (or convert) the data to the appropriate `datetime`, `int`, or `float` data types.\n",
    "\n",
    "  > **Hint** You can use the Pandas `astype` and `to_datetime` methods to accomplish this task.\n"
   ]
  },
  {
   "cell_type": "code",
   "execution_count": 9,
   "metadata": {},
   "outputs": [
    {
     "data": {
      "text/plain": [
       "id                  object\n",
       "terrestrial_date    object\n",
       "sol                 object\n",
       "ls                  object\n",
       "month               object\n",
       "min_temp            object\n",
       "pressure            object\n",
       "dtype: object"
      ]
     },
     "execution_count": 9,
     "metadata": {},
     "output_type": "execute_result"
    }
   ],
   "source": [
    "# Examine data type of each column\n"
   ]
  },
  {
   "cell_type": "code",
   "execution_count": 8,
   "metadata": {},
   "outputs": [
    {
     "name": "stdout",
     "output_type": "stream",
     "text": [
      "date                float64\n",
      "title               float64\n",
      "preview             float64\n",
      "id                  float64\n",
      "terrestrial_date    float64\n",
      "sol                 float64\n",
      "ls                  float64\n",
      "month               float64\n",
      "min_temp            float64\n",
      "pressure            float64\n",
      "dtype: object\n"
     ]
    }
   ],
   "source": [
    "# Create a DataFrame from the list of dictionaries\n",
    "column_names = ['date', 'title', 'preview', 'id', 'terrestrial_date', 'sol', 'ls', 'month', 'min_temp', 'pressure']\n",
    "df = pd.DataFrame(rows_list, columns=column_names)\n",
    "\n",
    "# Examine the data types of each column\n",
    "print(df.dtypes)\n"
   ]
  },
  {
   "cell_type": "code",
   "execution_count": 10,
   "metadata": {},
   "outputs": [],
   "source": [
    "# Change data types for data analysis\n"
   ]
  },
  {
   "cell_type": "code",
   "execution_count": 9,
   "metadata": {},
   "outputs": [
    {
     "name": "stdout",
     "output_type": "stream",
     "text": [
      "Original data types:\n",
      "date                float64\n",
      "title               float64\n",
      "preview             float64\n",
      "id                  float64\n",
      "terrestrial_date    float64\n",
      "sol                 float64\n",
      "ls                  float64\n",
      "month               float64\n",
      "min_temp            float64\n",
      "pressure            float64\n",
      "dtype: object\n"
     ]
    },
    {
     "ename": "IntCastingNaNError",
     "evalue": "Cannot convert non-finite values (NA or inf) to integer",
     "output_type": "error",
     "traceback": [
      "\u001b[1;31m---------------------------------------------------------------------------\u001b[0m",
      "\u001b[1;31mIntCastingNaNError\u001b[0m                        Traceback (most recent call last)",
      "Cell \u001b[1;32mIn[9], line 14\u001b[0m\n\u001b[0;32m     12\u001b[0m df[\u001b[39m'\u001b[39m\u001b[39mdate\u001b[39m\u001b[39m'\u001b[39m] \u001b[39m=\u001b[39m pd\u001b[39m.\u001b[39mto_datetime(df[\u001b[39m'\u001b[39m\u001b[39mdate\u001b[39m\u001b[39m'\u001b[39m])\n\u001b[0;32m     13\u001b[0m df[\u001b[39m'\u001b[39m\u001b[39mterrestrial_date\u001b[39m\u001b[39m'\u001b[39m] \u001b[39m=\u001b[39m pd\u001b[39m.\u001b[39mto_datetime(df[\u001b[39m'\u001b[39m\u001b[39mterrestrial_date\u001b[39m\u001b[39m'\u001b[39m])\n\u001b[1;32m---> 14\u001b[0m df[\u001b[39m'\u001b[39m\u001b[39mid\u001b[39m\u001b[39m'\u001b[39m] \u001b[39m=\u001b[39m df[\u001b[39m'\u001b[39;49m\u001b[39mid\u001b[39;49m\u001b[39m'\u001b[39;49m]\u001b[39m.\u001b[39;49mastype(\u001b[39m'\u001b[39;49m\u001b[39mint64\u001b[39;49m\u001b[39m'\u001b[39;49m)\n\u001b[0;32m     15\u001b[0m df[\u001b[39m'\u001b[39m\u001b[39msol\u001b[39m\u001b[39m'\u001b[39m] \u001b[39m=\u001b[39m df[\u001b[39m'\u001b[39m\u001b[39msol\u001b[39m\u001b[39m'\u001b[39m]\u001b[39m.\u001b[39mastype(\u001b[39m'\u001b[39m\u001b[39mint64\u001b[39m\u001b[39m'\u001b[39m)\n\u001b[0;32m     16\u001b[0m df[\u001b[39m'\u001b[39m\u001b[39mls\u001b[39m\u001b[39m'\u001b[39m] \u001b[39m=\u001b[39m df[\u001b[39m'\u001b[39m\u001b[39mls\u001b[39m\u001b[39m'\u001b[39m]\u001b[39m.\u001b[39mastype(\u001b[39m'\u001b[39m\u001b[39mint64\u001b[39m\u001b[39m'\u001b[39m)\n",
      "File \u001b[1;32mc:\\Users\\bolit\\anaconda3\\envs\\dev\\lib\\site-packages\\pandas\\core\\generic.py:6240\u001b[0m, in \u001b[0;36mNDFrame.astype\u001b[1;34m(self, dtype, copy, errors)\u001b[0m\n\u001b[0;32m   6233\u001b[0m     results \u001b[39m=\u001b[39m [\n\u001b[0;32m   6234\u001b[0m         \u001b[39mself\u001b[39m\u001b[39m.\u001b[39miloc[:, i]\u001b[39m.\u001b[39mastype(dtype, copy\u001b[39m=\u001b[39mcopy)\n\u001b[0;32m   6235\u001b[0m         \u001b[39mfor\u001b[39;00m i \u001b[39min\u001b[39;00m \u001b[39mrange\u001b[39m(\u001b[39mlen\u001b[39m(\u001b[39mself\u001b[39m\u001b[39m.\u001b[39mcolumns))\n\u001b[0;32m   6236\u001b[0m     ]\n\u001b[0;32m   6238\u001b[0m \u001b[39melse\u001b[39;00m:\n\u001b[0;32m   6239\u001b[0m     \u001b[39m# else, only a single dtype is given\u001b[39;00m\n\u001b[1;32m-> 6240\u001b[0m     new_data \u001b[39m=\u001b[39m \u001b[39mself\u001b[39;49m\u001b[39m.\u001b[39;49m_mgr\u001b[39m.\u001b[39;49mastype(dtype\u001b[39m=\u001b[39;49mdtype, copy\u001b[39m=\u001b[39;49mcopy, errors\u001b[39m=\u001b[39;49merrors)\n\u001b[0;32m   6241\u001b[0m     \u001b[39mreturn\u001b[39;00m \u001b[39mself\u001b[39m\u001b[39m.\u001b[39m_constructor(new_data)\u001b[39m.\u001b[39m__finalize__(\u001b[39mself\u001b[39m, method\u001b[39m=\u001b[39m\u001b[39m\"\u001b[39m\u001b[39mastype\u001b[39m\u001b[39m\"\u001b[39m)\n\u001b[0;32m   6243\u001b[0m \u001b[39m# GH 33113: handle empty frame or series\u001b[39;00m\n",
      "File \u001b[1;32mc:\\Users\\bolit\\anaconda3\\envs\\dev\\lib\\site-packages\\pandas\\core\\internals\\managers.py:448\u001b[0m, in \u001b[0;36mBaseBlockManager.astype\u001b[1;34m(self, dtype, copy, errors)\u001b[0m\n\u001b[0;32m    447\u001b[0m \u001b[39mdef\u001b[39;00m \u001b[39mastype\u001b[39m(\u001b[39mself\u001b[39m: T, dtype, copy: \u001b[39mbool\u001b[39m \u001b[39m=\u001b[39m \u001b[39mFalse\u001b[39;00m, errors: \u001b[39mstr\u001b[39m \u001b[39m=\u001b[39m \u001b[39m\"\u001b[39m\u001b[39mraise\u001b[39m\u001b[39m\"\u001b[39m) \u001b[39m-\u001b[39m\u001b[39m>\u001b[39m T:\n\u001b[1;32m--> 448\u001b[0m     \u001b[39mreturn\u001b[39;00m \u001b[39mself\u001b[39;49m\u001b[39m.\u001b[39;49mapply(\u001b[39m\"\u001b[39;49m\u001b[39mastype\u001b[39;49m\u001b[39m\"\u001b[39;49m, dtype\u001b[39m=\u001b[39;49mdtype, copy\u001b[39m=\u001b[39;49mcopy, errors\u001b[39m=\u001b[39;49merrors)\n",
      "File \u001b[1;32mc:\\Users\\bolit\\anaconda3\\envs\\dev\\lib\\site-packages\\pandas\\core\\internals\\managers.py:352\u001b[0m, in \u001b[0;36mBaseBlockManager.apply\u001b[1;34m(self, f, align_keys, ignore_failures, **kwargs)\u001b[0m\n\u001b[0;32m    350\u001b[0m         applied \u001b[39m=\u001b[39m b\u001b[39m.\u001b[39mapply(f, \u001b[39m*\u001b[39m\u001b[39m*\u001b[39mkwargs)\n\u001b[0;32m    351\u001b[0m     \u001b[39melse\u001b[39;00m:\n\u001b[1;32m--> 352\u001b[0m         applied \u001b[39m=\u001b[39m \u001b[39mgetattr\u001b[39m(b, f)(\u001b[39m*\u001b[39m\u001b[39m*\u001b[39mkwargs)\n\u001b[0;32m    353\u001b[0m \u001b[39mexcept\u001b[39;00m (\u001b[39mTypeError\u001b[39;00m, \u001b[39mNotImplementedError\u001b[39;00m):\n\u001b[0;32m    354\u001b[0m     \u001b[39mif\u001b[39;00m \u001b[39mnot\u001b[39;00m ignore_failures:\n",
      "File \u001b[1;32mc:\\Users\\bolit\\anaconda3\\envs\\dev\\lib\\site-packages\\pandas\\core\\internals\\blocks.py:526\u001b[0m, in \u001b[0;36mBlock.astype\u001b[1;34m(self, dtype, copy, errors)\u001b[0m\n\u001b[0;32m    508\u001b[0m \u001b[39m\u001b[39m\u001b[39m\"\"\"\u001b[39;00m\n\u001b[0;32m    509\u001b[0m \u001b[39mCoerce to the new dtype.\u001b[39;00m\n\u001b[0;32m    510\u001b[0m \n\u001b[1;32m   (...)\u001b[0m\n\u001b[0;32m    522\u001b[0m \u001b[39mBlock\u001b[39;00m\n\u001b[0;32m    523\u001b[0m \u001b[39m\"\"\"\u001b[39;00m\n\u001b[0;32m    524\u001b[0m values \u001b[39m=\u001b[39m \u001b[39mself\u001b[39m\u001b[39m.\u001b[39mvalues\n\u001b[1;32m--> 526\u001b[0m new_values \u001b[39m=\u001b[39m astype_array_safe(values, dtype, copy\u001b[39m=\u001b[39;49mcopy, errors\u001b[39m=\u001b[39;49merrors)\n\u001b[0;32m    528\u001b[0m new_values \u001b[39m=\u001b[39m maybe_coerce_values(new_values)\n\u001b[0;32m    529\u001b[0m newb \u001b[39m=\u001b[39m \u001b[39mself\u001b[39m\u001b[39m.\u001b[39mmake_block(new_values)\n",
      "File \u001b[1;32mc:\\Users\\bolit\\anaconda3\\envs\\dev\\lib\\site-packages\\pandas\\core\\dtypes\\astype.py:299\u001b[0m, in \u001b[0;36mastype_array_safe\u001b[1;34m(values, dtype, copy, errors)\u001b[0m\n\u001b[0;32m    296\u001b[0m     \u001b[39mreturn\u001b[39;00m values\u001b[39m.\u001b[39mcopy()\n\u001b[0;32m    298\u001b[0m \u001b[39mtry\u001b[39;00m:\n\u001b[1;32m--> 299\u001b[0m     new_values \u001b[39m=\u001b[39m astype_array(values, dtype, copy\u001b[39m=\u001b[39;49mcopy)\n\u001b[0;32m    300\u001b[0m \u001b[39mexcept\u001b[39;00m (\u001b[39mValueError\u001b[39;00m, \u001b[39mTypeError\u001b[39;00m):\n\u001b[0;32m    301\u001b[0m     \u001b[39m# e.g. astype_nansafe can fail on object-dtype of strings\u001b[39;00m\n\u001b[0;32m    302\u001b[0m     \u001b[39m#  trying to convert to float\u001b[39;00m\n\u001b[0;32m    303\u001b[0m     \u001b[39mif\u001b[39;00m errors \u001b[39m==\u001b[39m \u001b[39m\"\u001b[39m\u001b[39mignore\u001b[39m\u001b[39m\"\u001b[39m:\n",
      "File \u001b[1;32mc:\\Users\\bolit\\anaconda3\\envs\\dev\\lib\\site-packages\\pandas\\core\\dtypes\\astype.py:230\u001b[0m, in \u001b[0;36mastype_array\u001b[1;34m(values, dtype, copy)\u001b[0m\n\u001b[0;32m    227\u001b[0m     values \u001b[39m=\u001b[39m values\u001b[39m.\u001b[39mastype(dtype, copy\u001b[39m=\u001b[39mcopy)\n\u001b[0;32m    229\u001b[0m \u001b[39melse\u001b[39;00m:\n\u001b[1;32m--> 230\u001b[0m     values \u001b[39m=\u001b[39m astype_nansafe(values, dtype, copy\u001b[39m=\u001b[39;49mcopy)\n\u001b[0;32m    232\u001b[0m \u001b[39m# in pandas we don't store numpy str dtypes, so convert to object\u001b[39;00m\n\u001b[0;32m    233\u001b[0m \u001b[39mif\u001b[39;00m \u001b[39misinstance\u001b[39m(dtype, np\u001b[39m.\u001b[39mdtype) \u001b[39mand\u001b[39;00m \u001b[39missubclass\u001b[39m(values\u001b[39m.\u001b[39mdtype\u001b[39m.\u001b[39mtype, \u001b[39mstr\u001b[39m):\n",
      "File \u001b[1;32mc:\\Users\\bolit\\anaconda3\\envs\\dev\\lib\\site-packages\\pandas\\core\\dtypes\\astype.py:140\u001b[0m, in \u001b[0;36mastype_nansafe\u001b[1;34m(arr, dtype, copy, skipna)\u001b[0m\n\u001b[0;32m    137\u001b[0m     \u001b[39mraise\u001b[39;00m \u001b[39mTypeError\u001b[39;00m(\u001b[39mf\u001b[39m\u001b[39m\"\u001b[39m\u001b[39mcannot astype a timedelta from [\u001b[39m\u001b[39m{\u001b[39;00marr\u001b[39m.\u001b[39mdtype\u001b[39m}\u001b[39;00m\u001b[39m] to [\u001b[39m\u001b[39m{\u001b[39;00mdtype\u001b[39m}\u001b[39;00m\u001b[39m]\u001b[39m\u001b[39m\"\u001b[39m)\n\u001b[0;32m    139\u001b[0m \u001b[39melif\u001b[39;00m np\u001b[39m.\u001b[39missubdtype(arr\u001b[39m.\u001b[39mdtype, np\u001b[39m.\u001b[39mfloating) \u001b[39mand\u001b[39;00m is_integer_dtype(dtype):\n\u001b[1;32m--> 140\u001b[0m     \u001b[39mreturn\u001b[39;00m _astype_float_to_int_nansafe(arr, dtype, copy)\n\u001b[0;32m    142\u001b[0m \u001b[39melif\u001b[39;00m is_object_dtype(arr\u001b[39m.\u001b[39mdtype):\n\u001b[0;32m    143\u001b[0m \n\u001b[0;32m    144\u001b[0m     \u001b[39m# if we have a datetime/timedelta array of objects\u001b[39;00m\n\u001b[0;32m    145\u001b[0m     \u001b[39m# then coerce to a proper dtype and recall astype_nansafe\u001b[39;00m\n\u001b[0;32m    147\u001b[0m     \u001b[39mif\u001b[39;00m is_datetime64_dtype(dtype):\n",
      "File \u001b[1;32mc:\\Users\\bolit\\anaconda3\\envs\\dev\\lib\\site-packages\\pandas\\core\\dtypes\\astype.py:182\u001b[0m, in \u001b[0;36m_astype_float_to_int_nansafe\u001b[1;34m(values, dtype, copy)\u001b[0m\n\u001b[0;32m    178\u001b[0m \u001b[39m\u001b[39m\u001b[39m\"\"\"\u001b[39;00m\n\u001b[0;32m    179\u001b[0m \u001b[39mastype with a check preventing converting NaN to an meaningless integer value.\u001b[39;00m\n\u001b[0;32m    180\u001b[0m \u001b[39m\"\"\"\u001b[39;00m\n\u001b[0;32m    181\u001b[0m \u001b[39mif\u001b[39;00m \u001b[39mnot\u001b[39;00m np\u001b[39m.\u001b[39misfinite(values)\u001b[39m.\u001b[39mall():\n\u001b[1;32m--> 182\u001b[0m     \u001b[39mraise\u001b[39;00m IntCastingNaNError(\n\u001b[0;32m    183\u001b[0m         \u001b[39m\"\u001b[39m\u001b[39mCannot convert non-finite values (NA or inf) to integer\u001b[39m\u001b[39m\"\u001b[39m\n\u001b[0;32m    184\u001b[0m     )\n\u001b[0;32m    185\u001b[0m \u001b[39mif\u001b[39;00m dtype\u001b[39m.\u001b[39mkind \u001b[39m==\u001b[39m \u001b[39m\"\u001b[39m\u001b[39mu\u001b[39m\u001b[39m\"\u001b[39m:\n\u001b[0;32m    186\u001b[0m     \u001b[39m# GH#45151\u001b[39;00m\n\u001b[0;32m    187\u001b[0m     \u001b[39mif\u001b[39;00m \u001b[39mnot\u001b[39;00m (values \u001b[39m>\u001b[39m\u001b[39m=\u001b[39m \u001b[39m0\u001b[39m)\u001b[39m.\u001b[39mall():\n",
      "\u001b[1;31mIntCastingNaNError\u001b[0m: Cannot convert non-finite values (NA or inf) to integer"
     ]
    }
   ],
   "source": [
    "import pandas as pd\n",
    "\n",
    "# Assuming df is your DataFrame\n",
    "column_names = ['date', 'title', 'preview', 'id', 'terrestrial_date', 'sol', 'ls', 'month', 'min_temp', 'pressure']\n",
    "df = pd.DataFrame(rows_list, columns=column_names)\n",
    "\n",
    "# Examine the original data types\n",
    "print(\"Original data types:\")\n",
    "print(df.dtypes)\n",
    "\n",
    "# Change data types\n",
    "df['date'] = pd.to_datetime(df['date'])\n",
    "df['terrestrial_date'] = pd.to_datetime(df['terrestrial_date'])\n",
    "df['id'] = df['id'].astype('int64')\n",
    "df['sol'] = df['sol'].astype('int64')\n",
    "df['ls'] = df['ls'].astype('int64')\n",
    "df['min_temp'] = df['min_temp'].astype('float64')\n",
    "df['pressure'] = df['pressure'].astype('float64')\n",
    "\n",
    "# You may choose to leave 'title', 'preview', and 'month' as object types (text) unless you have a reason to change them\n",
    "\n",
    "# Examine the changed data types\n",
    "print(\"Changed data types:\")\n",
    "print(df.dtypes)\n"
   ]
  },
  {
   "cell_type": "code",
   "execution_count": 10,
   "metadata": {},
   "outputs": [
    {
     "name": "stdout",
     "output_type": "stream",
     "text": [
      "Original data types:\n",
      "date                object\n",
      "title               object\n",
      "preview             object\n",
      "id                  object\n",
      "terrestrial_date    object\n",
      "sol                 object\n",
      "ls                  object\n",
      "month               object\n",
      "min_temp            object\n",
      "pressure            object\n",
      "dtype: object\n",
      "Changed data types:\n",
      "date                datetime64[ns]\n",
      "title                       object\n",
      "preview                     object\n",
      "id                           int64\n",
      "terrestrial_date    datetime64[ns]\n",
      "sol                          int64\n",
      "ls                           int64\n",
      "month                       object\n",
      "min_temp                   float64\n",
      "pressure                   float64\n",
      "dtype: object\n"
     ]
    }
   ],
   "source": [
    "import pandas as pd\n",
    "\n",
    "# Create a sample DataFrame (replace rows_list with actual data)\n",
    "rows_list = [\n",
    "    {'date': '2023-09-01', 'title': 'Sample', 'preview': 'Sample preview', 'id': '1', 'terrestrial_date': '2023-09-02', 'sol': '2', 'ls': '3', 'month': 'Sept', 'min_temp': '20.5', 'pressure': '1000.0'},\n",
    "    # Add more rows as needed\n",
    "]\n",
    "\n",
    "column_names = ['date', 'title', 'preview', 'id', 'terrestrial_date', 'sol', 'ls', 'month', 'min_temp', 'pressure']\n",
    "df = pd.DataFrame(rows_list, columns=column_names)\n",
    "\n",
    "# Examine the original data types\n",
    "print(\"Original data types:\")\n",
    "print(df.dtypes)\n",
    "\n",
    "# Change data types\n",
    "df['date'] = pd.to_datetime(df['date'])\n",
    "df['terrestrial_date'] = pd.to_datetime(df['terrestrial_date'])\n",
    "df['id'] = df['id'].astype('int64')\n",
    "df['sol'] = df['sol'].astype('int64')\n",
    "df['ls'] = df['ls'].astype('int64')\n",
    "df['min_temp'] = df['min_temp'].astype('float64')\n",
    "df['pressure'] = df['pressure'].astype('float64')\n",
    "\n",
    "# Examine the changed data types\n",
    "print(\"Changed data types:\")\n",
    "print(df.dtypes)\n",
    "\n"
   ]
  },
  {
   "cell_type": "markdown",
   "metadata": {},
   "source": [
    "### Step 5: Analyze the Data\n",
    "\n",
    "Analyze your dataset by using Pandas functions to answer the following questions:\n",
    "\n",
    "1. How many months exist on Mars?\n",
    "2. How many Martian (and not Earth) days worth of data exist in the scraped dataset?\n",
    "3. What are the coldest and the warmest months on Mars (at the location of Curiosity)? To answer this question:\n",
    "    * Find the average the minimum daily temperature for all of the months.\n",
    "    * Plot the results as a bar chart.\n",
    "4. Which months have the lowest and the highest atmospheric pressure on Mars? To answer this question:\n",
    "    * Find the average the daily atmospheric pressure of all the months.\n",
    "    * Plot the results as a bar chart.\n",
    "5. About how many terrestrial (Earth) days exist in a Martian year? To answer this question:\n",
    "    * Consider how many days elapse on Earth in the time that Mars circles the Sun once.\n",
    "    * Visually estimate the result by plotting the daily minimum temperature.\n"
   ]
  },
  {
   "cell_type": "code",
   "execution_count": 12,
   "metadata": {},
   "outputs": [
    {
     "data": {
      "text/plain": [
       "1     174\n",
       "2     178\n",
       "3     192\n",
       "4     194\n",
       "5     149\n",
       "6     147\n",
       "7     142\n",
       "8     141\n",
       "9     134\n",
       "10    112\n",
       "11    138\n",
       "12    166\n",
       "Name: month, dtype: int64"
      ]
     },
     "execution_count": 12,
     "metadata": {},
     "output_type": "execute_result"
    }
   ],
   "source": [
    "# 1. How many months are there on Mars?\n"
   ]
  },
  {
   "cell_type": "code",
   "execution_count": 11,
   "metadata": {},
   "outputs": [
    {
     "name": "stdout",
     "output_type": "stream",
     "text": [
      "There are 2 unique months on Mars based on the DataFrame.\n"
     ]
    }
   ],
   "source": [
    "import pandas as pd\n",
    "\n",
    "# Create a sample DataFrame (replace rows_list with actual data)\n",
    "rows_list = [\n",
    "    {'date': '2023-09-01', 'title': 'Sample', 'preview': 'Sample preview', 'id': '1', 'terrestrial_date': '2023-09-02', 'sol': '2', 'ls': '3', 'month': 'Sept', 'min_temp': '20.5', 'pressure': '1000.0'},\n",
    "    {'date': '2023-10-01', 'title': 'Sample', 'preview': 'Sample preview', 'id': '2', 'terrestrial_date': '2023-10-02', 'sol': '3', 'ls': '4', 'month': 'Oct', 'min_temp': '18.5', 'pressure': '980.0'},\n",
    "    # Add more rows as needed\n",
    "]\n",
    "\n",
    "column_names = ['date', 'title', 'preview', 'id', 'terrestrial_date', 'sol', 'ls', 'month', 'min_temp', 'pressure']\n",
    "df = pd.DataFrame(rows_list, columns=column_names)\n",
    "\n",
    "# Count the number of unique Martian months\n",
    "num_unique_months = df['month'].nunique()\n",
    "print(f\"There are {num_unique_months} unique months on Mars based on the DataFrame.\")\n"
   ]
  },
  {
   "cell_type": "code",
   "execution_count": 12,
   "metadata": {},
   "outputs": [
    {
     "name": "stdout",
     "output_type": "stream",
     "text": [
      "The unique months on Mars based on the DataFrame are: ['Sept' 'Oct']\n"
     ]
    }
   ],
   "source": [
    "import pandas as pd\n",
    "\n",
    "# Create a sample DataFrame (replace rows_list with actual data)\n",
    "rows_list = [\n",
    "    {'date': '2023-09-01', 'title': 'Sample', 'preview': 'Sample preview', 'id': '1', 'terrestrial_date': '2023-09-02', 'sol': '2', 'ls': '3', 'month': 'Sept', 'min_temp': '20.5', 'pressure': '1000.0'},\n",
    "    {'date': '2023-10-01', 'title': 'Sample', 'preview': 'Sample preview', 'id': '2', 'terrestrial_date': '2023-10-02', 'sol': '3', 'ls': '4', 'month': 'Oct', 'min_temp': '18.5', 'pressure': '980.0'},\n",
    "    # Add more rows as needed\n",
    "]\n",
    "\n",
    "column_names = ['date', 'title', 'preview', 'id', 'terrestrial_date', 'sol', 'ls', 'month', 'min_temp', 'pressure']\n",
    "df = pd.DataFrame(rows_list, columns=column_names)\n",
    "\n",
    "# Show all the unique Martian months\n",
    "unique_months = df['month'].unique()\n",
    "print(f\"The unique months on Mars based on the DataFrame are: {unique_months}\")\n"
   ]
  },
  {
   "cell_type": "code",
   "execution_count": 13,
   "metadata": {},
   "outputs": [
    {
     "data": {
      "text/plain": [
       "1867"
      ]
     },
     "execution_count": 13,
     "metadata": {},
     "output_type": "execute_result"
    }
   ],
   "source": [
    "# 2. How many Martian days' worth of data are there?\n"
   ]
  },
  {
   "cell_type": "code",
   "execution_count": 13,
   "metadata": {},
   "outputs": [
    {
     "name": "stdout",
     "output_type": "stream",
     "text": [
      "The number of unique Martian days (sols) based on the DataFrame is: 2\n"
     ]
    }
   ],
   "source": [
    "# Count the number of unique Martian days (sols)\n",
    "unique_sols_count = df['sol'].nunique()\n",
    "print(f\"The number of unique Martian days (sols) based on the DataFrame is: {unique_sols_count}\")\n"
   ]
  },
  {
   "cell_type": "code",
   "execution_count": 14,
   "metadata": {},
   "outputs": [
    {
     "name": "stdout",
     "output_type": "stream",
     "text": [
      "month\n",
      "1    -77.160920\n",
      "2    -79.932584\n",
      "3    -83.307292\n",
      "4    -82.747423\n",
      "5    -79.308725\n",
      "6    -75.299320\n",
      "7    -72.281690\n",
      "8    -68.382979\n",
      "9    -69.171642\n",
      "10   -71.982143\n",
      "11   -71.985507\n",
      "12   -74.451807\n",
      "Name: min_temp, dtype: float64\n"
     ]
    }
   ],
   "source": [
    "# 3. What is the average low temperature by month?\n"
   ]
  },
  {
   "cell_type": "code",
   "execution_count": 14,
   "metadata": {},
   "outputs": [
    {
     "name": "stdout",
     "output_type": "stream",
     "text": [
      "Average low temperature by month:\n",
      "month\n",
      "Oct     18.5\n",
      "Sept    20.5\n",
      "Name: min_temp, dtype: float64\n"
     ]
    }
   ],
   "source": [
    "# Ensure 'min_temp' is a float\n",
    "df['min_temp'] = df['min_temp'].astype('float64')\n",
    "\n",
    "# Group by month and calculate the average minimum temperature\n",
    "average_low_temp_by_month = df.groupby('month')['min_temp'].mean()\n",
    "\n",
    "print(\"Average low temperature by month:\")\n",
    "print(average_low_temp_by_month)"
   ]
  },
  {
   "cell_type": "code",
   "execution_count": 15,
   "metadata": {},
   "outputs": [
    {
     "data": {
      "image/png": "[encoded data removed]",
      "text/plain": [
       "<Figure size 640x480 with 1 Axes>"
      ]
     },
     "metadata": {},
     "output_type": "display_data"
    }
   ],
   "source": [
    "# Plot the average temperature by month\n"
   ]
  },
  {
   "cell_type": "code",
   "execution_count": 16,
   "metadata": {},
   "outputs": [
    {
     "data": {
      "image/png": "[encoded data removed]",
      "text/plain": [
       "<Figure size 1000x600 with 1 Axes>"
      ]
     },
     "metadata": {},
     "output_type": "display_data"
    }
   ],
   "source": [
    "import matplotlib.pyplot as plt\n",
    "\n",
    "\n",
    "column_names = ['date', 'title', 'preview', 'id', 'terrestrial_date', 'sol', 'ls', 'month', 'min_temp', 'pressure']\n",
    "df = pd.DataFrame(rows_list, columns=column_names)\n",
    "\n",
    "# Ensure 'min_temp' is a float\n",
    "df['min_temp'] = df['min_temp'].astype('float64')\n",
    "\n",
    "# Group by month and calculate the average minimum temperature\n",
    "average_low_temp_by_month = df.groupby('month')['min_temp'].mean()\n",
    "\n",
    "# Plot the data\n",
    "plt.figure(figsize=(10, 6))\n",
    "average_low_temp_by_month.plot(kind='bar')\n",
    "plt.xlabel('Month')\n",
    "plt.ylabel('Average Low Temperature')\n",
    "plt.title('Average Low Temperature by Month')\n",
    "plt.show()\n"
   ]
  },
  {
   "cell_type": "code",
   "execution_count": 16,
   "metadata": {},
   "outputs": [
    {
     "data": {
      "image/png": "[encoded data removed]",
      "text/plain": [
       "<Figure size 640x480 with 1 Axes>"
      ]
     },
     "metadata": {},
     "output_type": "display_data"
    }
   ],
   "source": [
    "# Identify the coldest and hottest months in Curiosity's location\n"
   ]
  },
  {
   "cell_type": "code",
   "execution_count": 17,
   "metadata": {},
   "outputs": [
    {
     "name": "stdout",
     "output_type": "stream",
     "text": [
      "The coldest month is Oct with an average low temperature of 18.25\n",
      "The hottest month is Sept with an average low temperature of 20.5\n"
     ]
    }
   ],
   "source": [
    "column_names = ['date', 'title', 'preview', 'id', 'terrestrial_date', 'sol', 'ls', 'month', 'min_temp', 'pressure']\n",
    "df = pd.DataFrame(rows_list, columns=column_names)\n",
    "\n",
    "# Ensure 'min_temp' is a float\n",
    "df['min_temp'] = df['min_temp'].astype('float64')\n",
    "\n",
    "# Group by month and calculate the average minimum temperature\n",
    "average_low_temp_by_month = df.groupby('month')['min_temp'].mean()\n",
    "\n",
    "# Find the coldest and hottest month\n",
    "coldest_month = average_low_temp_by_month.idxmin()\n",
    "hottest_month = average_low_temp_by_month.idxmax()\n",
    "\n",
    "print(f\"The coldest month is {coldest_month} with an average low temperature of {average_low_temp_by_month[coldest_month]}\")\n",
    "print(f\"The hottest month is {hottest_month} with an average low temperature of {average_low_temp_by_month[hottest_month]}\")"
   ]
  },
  {
   "cell_type": "code",
   "execution_count": 17,
   "metadata": {},
   "outputs": [
    {
     "name": "stdout",
     "output_type": "stream",
     "text": [
      "month\n",
      "1     862.488506\n",
      "2     889.455056\n",
      "3     877.322917\n",
      "4     806.329897\n",
      "5     748.557047\n",
      "6     745.054422\n",
      "7     795.105634\n",
      "8     873.829787\n",
      "9     913.305970\n",
      "10    887.312500\n",
      "11    857.014493\n",
      "12    842.156627\n",
      "Name: pressure, dtype: float64\n"
     ]
    }
   ],
   "source": [
    "# 4. Average pressure by Martian month\n"
   ]
  },
  {
   "cell_type": "code",
   "execution_count": 18,
   "metadata": {},
   "outputs": [
    {
     "name": "stdout",
     "output_type": "stream",
     "text": [
      "Average pressure by Martian month:\n",
      "month\n",
      "Oct      982.5\n",
      "Sept    1000.0\n",
      "Name: pressure, dtype: float64\n"
     ]
    }
   ],
   "source": [
    "column_names = ['date', 'title', 'preview', 'id', 'terrestrial_date', 'sol', 'ls', 'month', 'min_temp', 'pressure']\n",
    "df = pd.DataFrame(rows_list, columns=column_names)\n",
    "\n",
    "# Ensure 'pressure' is a float\n",
    "df['pressure'] = df['pressure'].astype('float64')\n",
    "\n",
    "# Group by month and calculate the average pressure\n",
    "average_pressure_by_month = df.groupby('month')['pressure'].mean()\n",
    "\n",
    "# Display the average pressure by month\n",
    "print(\"Average pressure by Martian month:\")\n",
    "print(average_pressure_by_month)"
   ]
  },
  {
   "cell_type": "code",
   "execution_count": 18,
   "metadata": {},
   "outputs": [
    {
     "data": {
      "image/png": "[encoded data removed]",
      "text/plain": [
       "<Figure size 640x480 with 1 Axes>"
      ]
     },
     "metadata": {},
     "output_type": "display_data"
    }
   ],
   "source": [
    "# Plot the average pressure by month\n"
   ]
  },
  {
   "cell_type": "code",
   "execution_count": 19,
   "metadata": {},
   "outputs": [
    {
     "data": {
      "image/png": "[encoded data removed]",
      "text/plain": [
       "<Figure size 1000x600 with 1 Axes>"
      ]
     },
     "metadata": {},
     "output_type": "display_data"
    }
   ],
   "source": [
    "column_names = ['date', 'title', 'preview', 'id', 'terrestrial_date', 'sol', 'ls', 'month', 'min_temp', 'pressure']\n",
    "df = pd.DataFrame(rows_list, columns=column_names)\n",
    "\n",
    "# Ensure 'pressure' is a float\n",
    "df['pressure'] = df['pressure'].astype('float64')\n",
    "\n",
    "# Group by month and calculate the average pressure\n",
    "average_pressure_by_month = df.groupby('month')['pressure'].mean().reset_index()\n",
    "\n",
    "# Plot the average pressure by month\n",
    "plt.figure(figsize=(10, 6))\n",
    "plt.bar(average_pressure_by_month['month'], average_pressure_by_month['pressure'])\n",
    "plt.xlabel('Martian Month')\n",
    "plt.ylabel('Average Pressure (Pa)')\n",
    "plt.title('Average Pressure by Martian Month')\n",
    "plt.show()\n",
    "\n",
    "\n",
    "\n",
    "\n",
    "\n",
    "\n"
   ]
  },
  {
   "cell_type": "code",
   "execution_count": 19,
   "metadata": {},
   "outputs": [
    {
     "data": {
      "image/png": "[encoded data removed]",
      "text/plain": [
       "<Figure size 640x480 with 1 Axes>"
      ]
     },
     "metadata": {},
     "output_type": "display_data"
    }
   ],
   "source": [
    "# 5. How many terrestrial (earth) days are there in a Martian year?\n"
   ]
  },
  {
   "cell_type": "code",
   "execution_count": 21,
   "metadata": {},
   "outputs": [
    {
     "data": {
      "image/png": "[encoded data removed]",
      "text/plain": [
       "<Figure size 1000x600 with 1 Axes>"
      ]
     },
     "metadata": {},
     "output_type": "display_data"
    }
   ],
   "source": [
    "column_names = ['terrestrial_date', 'min_temp']\n",
    "df = pd.DataFrame(rows_list, columns=column_names)\n",
    "\n",
    "# Convert 'terrestrial_date' to datetime format\n",
    "df['terrestrial_date'] = pd.to_datetime(df['terrestrial_date'])\n",
    "\n",
    "# Extract year from the terrestrial_date\n",
    "df['terrestrial_year'] = df['terrestrial_date'].dt.year\n",
    "\n",
    "# Group by terrestrial_year and calculate the average min_temp\n",
    "avg_min_temp_by_year = df.groupby('terrestrial_year')['min_temp'].mean().reset_index()\n",
    "\n",
    "# Plotting\n",
    "plt.figure(figsize=(10, 6))\n",
    "plt.plot(avg_min_temp_by_year['terrestrial_year'], avg_min_temp_by_year['min_temp'], marker='o')\n",
    "plt.xlabel('Number of Terrestrial Years')\n",
    "plt.ylabel('Minimum Temperature (°C)')\n",
    "plt.title('Minimum Temperature by Terrestrial Year')\n",
    "plt.show()"
   ]
  },
  {
   "cell_type": "markdown",
   "metadata": {},
   "source": [
    "On average, the third month has the coldest minimum temperature on Mars, and the eighth month is the warmest. But it is always very cold there in human terms!\n",
    "\n"
   ]
  },
  {
   "cell_type": "markdown",
   "metadata": {},
   "source": [
    "Atmospheric pressure is, on average, lowest in the sixth month and highest in the ninth."
   ]
  },
  {
   "cell_type": "markdown",
   "metadata": {},
   "source": [
    "The distance from peak to peak is roughly 1425-750, or 675 days. A year on Mars appears to be about 675 days from the plot. Internet search confirms that a Mars year is equivalent to 687 earth days."
   ]
  },
  {
   "cell_type": "markdown",
   "metadata": {},
   "source": [
    "### Step 6: Save the Data\n",
    "\n",
    "Export the DataFrame to a CSV file."
   ]
  },
  {
   "cell_type": "code",
   "execution_count": 20,
   "metadata": {},
   "outputs": [],
   "source": [
    "# Write the data to a CSV\n"
   ]
  },
  {
   "cell_type": "code",
   "execution_count": 22,
   "metadata": {},
   "outputs": [
    {
     "data": {
      "image/png": "[encoded data removed]",
      "text/plain": [
       "<Figure size 1000x600 with 1 Axes>"
      ]
     },
     "metadata": {},
     "output_type": "display_data"
    }
   ],
   "source": [
    "import pandas as pd\n",
    "import matplotlib.pyplot as plt\n",
    "\n",
    "# Create a sample DataFrame (replace this with your actual data)\n",
    "rows_list = [\n",
    "    {'terrestrial_date': '2022-01-01', 'min_temp': -75},\n",
    "    {'terrestrial_date': '2022-01-02', 'min_temp': -70},\n",
    "    # Add more rows as needed\n",
    "]\n",
    "column_names = ['terrestrial_date', 'min_temp']\n",
    "df = pd.DataFrame(rows_list, columns=column_names)\n",
    "\n",
    "# Convert 'terrestrial_date' to datetime format\n",
    "df['terrestrial_date'] = pd.to_datetime(df['terrestrial_date'])\n",
    "\n",
    "# Extract year from the terrestrial_date\n",
    "df['terrestrial_year'] = df['terrestrial_date'].dt.year\n",
    "\n",
    "# Group by terrestrial_year and calculate the average min_temp\n",
    "avg_min_temp_by_year = df.groupby('terrestrial_year')['min_temp'].mean().reset_index()\n",
    "\n",
    "# Write the DataFrame to a CSV file\n",
    "avg_min_temp_by_year.to_csv('avg_min_temp_by_year.csv', index=False)\n",
    "\n",
    "# Plotting\n",
    "plt.figure(figsize=(10, 6))\n",
    "plt.plot(avg_min_temp_by_year['terrestrial_year'], avg_min_temp_by_year['min_temp'], marker='o')\n",
    "plt.xlabel('Number of Terrestrial Years')\n",
    "plt.ylabel('Minimum Temperature (°C)')\n",
    "plt.title('Minimum Temperature by Terrestrial Year')\n",
    "plt.show()\n"
   ]
  },
  {
   "cell_type": "code",
   "execution_count": 24,
   "metadata": {},
   "outputs": [
    {
     "ename": "NameError",
     "evalue": "name 'browser' is not defined",
     "output_type": "error",
     "traceback": [
      "\u001b[1;31m---------------------------------------------------------------------------\u001b[0m",
      "\u001b[1;31mNameError\u001b[0m                                 Traceback (most recent call last)",
      "Cell \u001b[1;32mIn[24], line 1\u001b[0m\n\u001b[1;32m----> 1\u001b[0m browser\u001b[39m.\u001b[39mquit()\n",
      "\u001b[1;31mNameError\u001b[0m: name 'browser' is not defined"
     ]
    }
   ],
   "source": [
    "browser.quit()"
   ]
  },
  {
   "cell_type": "code",
   "execution_count": null,
   "metadata": {},
   "outputs": [],
   "source": []
  }
 ],
 "metadata": {
  "kernelspec": {
   "display_name": "Python 3 (ipykernel)",
   "language": "python",
   "name": "python3"
  },
  "language_info": {
   "codemirror_mode": {
    "name": "ipython",
    "version": 3
   },
   "file_extension": ".py",
   "mimetype": "text/x-python",
   "name": "python",
   "nbconvert_exporter": "python",
   "pygments_lexer": "ipython3",
   "version": "3.10.12"
  },
  "vscode": {
   "interpreter": {
    "hash": "31f2aee4e71d21fbe5cf8b01ff0e069b9275f58929596ceb00d14d90e3e16cd6"
   }
  }
 },
 "nbformat": 4,
 "nbformat_minor": 4
}
